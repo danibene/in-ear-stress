{
 "cells": [
  {
   "cell_type": "code",
   "execution_count": 1,
   "id": "f8a4f0dc",
   "metadata": {},
   "outputs": [
    {
     "name": "stderr",
     "output_type": "stream",
     "text": [
      "C:\\Users\\dbenesch\\.conda\\envs\\stress-requirements\\lib\\site-packages\\paramiko\\transport.py:219: CryptographyDeprecationWarning: Blowfish has been deprecated\n",
      "  \"class\": algorithms.Blowfish,\n"
     ]
    }
   ],
   "source": [
    "import os\n",
    "import sys\n",
    "import pathlib\n",
    "code_paths = {}\n",
    "code_paths[\"repo_name\"] = \"p5-stress-classifier\"\n",
    "\n",
    "code_paths[\"repo_path\"] = os.getcwd()\n",
    "base_dir = os.path.basename(code_paths[\"repo_path\"])\n",
    "while base_dir != code_paths[\"repo_name\"]:\n",
    "    code_paths[\"repo_path\"] = os.path.dirname(os.path.abspath(code_paths[\"repo_path\"]))\n",
    "    base_dir = os.path.basename(code_paths[\"repo_path\"])\n",
    "\n",
    "package_dir = pathlib.Path(code_paths[\"repo_path\"], \"src\")\n",
    "sys.path.append(str(package_dir))\n",
    "from stresspred import code_paths"
   ]
  },
  {
   "cell_type": "code",
   "execution_count": 2,
   "id": "74714b8f",
   "metadata": {},
   "outputs": [],
   "source": [
    "for path in code_paths[\"neurokit2_paths\"]:\n",
    "    sys.path.append(str(path))"
   ]
  },
  {
   "cell_type": "code",
   "execution_count": 9,
   "id": "51362026",
   "metadata": {},
   "outputs": [],
   "source": [
    "import matplotlib.pyplot as plt\n",
    "import numpy as np\n",
    "import scipy"
   ]
  },
  {
   "cell_type": "code",
   "execution_count": 10,
   "id": "c2771c25",
   "metadata": {},
   "outputs": [
    {
     "name": "stdout",
     "output_type": "stream",
     "text": [
      "- OS: Windows (WindowsPE 64bit) \n",
      "- Python: 3.9.12 \n",
      "- NeuroKit2: 0.2.0 \n",
      "\n",
      "- NumPy: 1.21.0 \n",
      "- Pandas: 1.4.2 \n",
      "- SciPy: 1.7.3 \n",
      "- sklearn: 1.0.2 \n",
      "- matplotlib: 3.5.1\n"
     ]
    }
   ],
   "source": [
    "import neurokit2 as nk\n",
    "nk.version()"
   ]
  },
  {
   "cell_type": "code",
   "execution_count": 26,
   "id": "bae8b9ea",
   "metadata": {},
   "outputs": [],
   "source": [
    "#sampling_rate = 7500\n",
    "sampling_rate = 48000\n",
    "ppg_signal = nk.ppg.ppg_simulate(sampling_rate=sampling_rate)"
   ]
  },
  {
   "cell_type": "code",
   "execution_count": 27,
   "id": "0918078a",
   "metadata": {},
   "outputs": [],
   "source": [
    "filtered = nk.signal_filter(\n",
    "        ppg_signal, sampling_rate=sampling_rate, lowcut=0.5, highcut=8, order=3, method=\"butter_ba\"\n",
    "    )"
   ]
  },
  {
   "cell_type": "code",
   "execution_count": 28,
   "id": "9a1a6e41",
   "metadata": {},
   "outputs": [
    {
     "data": {
      "text/plain": [
       "array([nan, nan, nan, ..., nan, nan, nan])"
      ]
     },
     "execution_count": 28,
     "metadata": {},
     "output_type": "execute_result"
    }
   ],
   "source": [
    "filtered"
   ]
  },
  {
   "cell_type": "code",
   "execution_count": 29,
   "id": "f6d017aa",
   "metadata": {},
   "outputs": [
    {
     "data": {
      "text/plain": [
       "array([False])"
      ]
     },
     "execution_count": 29,
     "metadata": {},
     "output_type": "execute_result"
    }
   ],
   "source": [
    "filtered = nk.signal_filter(\n",
    "        ppg_signal, sampling_rate=sampling_rate, lowcut=0.5, highcut=8, order=3, method=\"butter_ba\"\n",
    "    )\n",
    "np.unique(np.isfinite(filtered))"
   ]
  },
  {
   "cell_type": "code",
   "execution_count": 30,
   "id": "10e2f46a",
   "metadata": {},
   "outputs": [
    {
     "data": {
      "text/plain": [
       "array([ True])"
      ]
     },
     "execution_count": 30,
     "metadata": {},
     "output_type": "execute_result"
    }
   ],
   "source": [
    "filtered = nk.signal_filter(\n",
    "        ppg_signal, sampling_rate=sampling_rate, lowcut=0.5, highcut=8, order=3, method=\"butterworth\"\n",
    "    )\n",
    "np.unique(np.isfinite(filtered))"
   ]
  },
  {
   "cell_type": "code",
   "execution_count": 82,
   "id": "0ec4a5ec",
   "metadata": {},
   "outputs": [],
   "source": [
    "clean = nk.signal_filter(\n",
    "        signal=ppg_signal, sampling_rate=sampling_rate, lowcut=0.5, method=\"butterworth\", order=5\n",
    "    )\n",
    "\n",
    "clean = nk.signal_filter(\n",
    "    signal=clean, sampling_rate=sampling_rate, method=\"powerline\", powerline=50\n",
    ")"
   ]
  },
  {
   "cell_type": "code",
   "execution_count": 66,
   "id": "2595c909",
   "metadata": {},
   "outputs": [],
   "source": []
  },
  {
   "cell_type": "code",
   "execution_count": 76,
   "id": "9ea5b937",
   "metadata": {},
   "outputs": [
    {
     "data": {
      "image/png": "[encoded data removed]",
      "text/plain": [
       "<Figure size 432x288 with 1 Axes>"
      ]
     },
     "metadata": {
      "needs_background": "light"
     },
     "output_type": "display_data"
    },
    {
     "data": {
      "image/png": "[encoded data removed]",
      "text/plain": [
       "<Figure size 432x288 with 1 Axes>"
      ]
     },
     "metadata": {
      "needs_background": "light"
     },
     "output_type": "display_data"
    },
    {
     "data": {
      "image/png": "[encoded data removed]",
      "text/plain": [
       "<Figure size 432x288 with 1 Axes>"
      ]
     },
     "metadata": {
      "needs_background": "light"
     },
     "output_type": "display_data"
    }
   ],
   "source": [
    "for sampling_rate in [500, 1000, 7500]:\n",
    "    b, a = scipy.signal.butter(3, [0.5,8], btype=\"bandpass\", output=\"ba\", fs=sampling_rate)\n",
    "    w, h = scipy.signal.freqz(b, a, fs=sampling_rate)\n",
    "    plt.figure()\n",
    "    plt.semilogx(w, 20 * np.log10(abs(h)))\n",
    "    plt.xlim([1, 1000])\n",
    "    plt.show()"
   ]
  },
  {
   "cell_type": "code",
   "execution_count": 56,
   "id": "aebbaaa7",
   "metadata": {},
   "outputs": [
    {
     "ename": "IndexError",
     "evalue": "index 0 is out of bounds for axis 0 with size 0",
     "output_type": "error",
     "traceback": [
      "\u001b[1;31m---------------------------------------------------------------------------\u001b[0m",
      "\u001b[1;31mIndexError\u001b[0m                                Traceback (most recent call last)",
      "Input \u001b[1;32mIn [56]\u001b[0m, in \u001b[0;36m<cell line: 1>\u001b[1;34m()\u001b[0m\n\u001b[1;32m----> 1\u001b[0m signals, info \u001b[38;5;241m=\u001b[39m \u001b[43mnk\u001b[49m\u001b[38;5;241;43m.\u001b[39;49m\u001b[43mppg_process\u001b[49m\u001b[43m(\u001b[49m\u001b[43mppg_signal\u001b[49m\u001b[43m,\u001b[49m\u001b[43m \u001b[49m\u001b[43msampling_rate\u001b[49m\u001b[38;5;241;43m=\u001b[39;49m\u001b[43msampling_rate\u001b[49m\u001b[43m)\u001b[49m\n",
      "File \u001b[1;32m~\\eers\\git\\p5-stress-classifier\\lib\\NeuroKit\\neurokit2\\ppg\\ppg_process.py:61\u001b[0m, in \u001b[0;36mppg_process\u001b[1;34m(ppg_signal, sampling_rate, **kwargs)\u001b[0m\n\u001b[0;32m     58\u001b[0m ppg_cleaned \u001b[38;5;241m=\u001b[39m ppg_clean(ppg_signal, sampling_rate\u001b[38;5;241m=\u001b[39msampling_rate)\n\u001b[0;32m     60\u001b[0m \u001b[38;5;66;03m# Find peaks\u001b[39;00m\n\u001b[1;32m---> 61\u001b[0m info \u001b[38;5;241m=\u001b[39m ppg_findpeaks(ppg_cleaned, sampling_rate\u001b[38;5;241m=\u001b[39msampling_rate, \u001b[38;5;241m*\u001b[39m\u001b[38;5;241m*\u001b[39mkwargs)\n\u001b[0;32m     62\u001b[0m info[\u001b[38;5;124m\"\u001b[39m\u001b[38;5;124msampling_rate\u001b[39m\u001b[38;5;124m\"\u001b[39m] \u001b[38;5;241m=\u001b[39m sampling_rate  \u001b[38;5;66;03m# Add sampling rate in dict info\u001b[39;00m\n\u001b[0;32m     64\u001b[0m \u001b[38;5;66;03m# Mark peaks\u001b[39;00m\n",
      "File \u001b[1;32m~\\eers\\git\\p5-stress-classifier\\lib\\NeuroKit\\neurokit2\\ppg\\ppg_findpeaks.py:65\u001b[0m, in \u001b[0;36mppg_findpeaks\u001b[1;34m(ppg_cleaned, sampling_rate, method, show)\u001b[0m\n\u001b[0;32m     63\u001b[0m method \u001b[38;5;241m=\u001b[39m method\u001b[38;5;241m.\u001b[39mlower()\n\u001b[0;32m     64\u001b[0m \u001b[38;5;28;01mif\u001b[39;00m method \u001b[38;5;129;01min\u001b[39;00m [\u001b[38;5;124m\"\u001b[39m\u001b[38;5;124melgendi\u001b[39m\u001b[38;5;124m\"\u001b[39m]:\n\u001b[1;32m---> 65\u001b[0m     peaks \u001b[38;5;241m=\u001b[39m \u001b[43m_ppg_findpeaks_elgendi\u001b[49m\u001b[43m(\u001b[49m\u001b[43mppg_cleaned\u001b[49m\u001b[43m,\u001b[49m\u001b[43m \u001b[49m\u001b[43msampling_rate\u001b[49m\u001b[43m,\u001b[49m\u001b[43m \u001b[49m\u001b[43mshow\u001b[49m\u001b[38;5;241;43m=\u001b[39;49m\u001b[43mshow\u001b[49m\u001b[43m)\u001b[49m\n\u001b[0;32m     66\u001b[0m \u001b[38;5;28;01melse\u001b[39;00m:\n\u001b[0;32m     67\u001b[0m     \u001b[38;5;28;01mraise\u001b[39;00m \u001b[38;5;167;01mValueError\u001b[39;00m(\u001b[38;5;124m\"\u001b[39m\u001b[38;5;124m`method` not found. Must be one of the following: \u001b[39m\u001b[38;5;124m'\u001b[39m\u001b[38;5;124melgendi\u001b[39m\u001b[38;5;124m'\u001b[39m\u001b[38;5;124m.\u001b[39m\u001b[38;5;124m\"\u001b[39m)\n",
      "File \u001b[1;32m~\\eers\\git\\p5-stress-classifier\\lib\\NeuroKit\\neurokit2\\ppg\\ppg_findpeaks.py:116\u001b[0m, in \u001b[0;36m_ppg_findpeaks_elgendi\u001b[1;34m(signal, sampling_rate, peakwindow, beatwindow, beatoffset, mindelay, show)\u001b[0m\n\u001b[0;32m    114\u001b[0m end_waves \u001b[38;5;241m=\u001b[39m np\u001b[38;5;241m.\u001b[39mwhere(np\u001b[38;5;241m.\u001b[39mlogical_and(waves[\u001b[38;5;241m0\u001b[39m:\u001b[38;5;241m-\u001b[39m\u001b[38;5;241m1\u001b[39m], np\u001b[38;5;241m.\u001b[39mlogical_not(waves[\u001b[38;5;241m1\u001b[39m:])))[\u001b[38;5;241m0\u001b[39m]\n\u001b[0;32m    115\u001b[0m \u001b[38;5;66;03m# Throw out wave-ends that precede first wave-start.\u001b[39;00m\n\u001b[1;32m--> 116\u001b[0m end_waves \u001b[38;5;241m=\u001b[39m end_waves[end_waves \u001b[38;5;241m>\u001b[39m \u001b[43mbeg_waves\u001b[49m\u001b[43m[\u001b[49m\u001b[38;5;241;43m0\u001b[39;49m\u001b[43m]\u001b[49m]\n\u001b[0;32m    118\u001b[0m \u001b[38;5;66;03m# Identify systolic peaks within waves (ignore waves that are too short).\u001b[39;00m\n\u001b[0;32m    119\u001b[0m num_waves \u001b[38;5;241m=\u001b[39m \u001b[38;5;28mmin\u001b[39m(beg_waves\u001b[38;5;241m.\u001b[39msize, end_waves\u001b[38;5;241m.\u001b[39msize)\n",
      "\u001b[1;31mIndexError\u001b[0m: index 0 is out of bounds for axis 0 with size 0"
     ]
    }
   ],
   "source": [
    "signals, info = nk.ppg_process(ppg_signal, sampling_rate=sampling_rate)"
   ]
  },
  {
   "cell_type": "code",
   "execution_count": null,
   "id": "c63ee90e",
   "metadata": {},
   "outputs": [],
   "source": [
    "nk.signal_plot(signals[\"PPG_Clean\"])"
   ]
  },
  {
   "cell_type": "code",
   "execution_count": null,
   "id": "8bc558c2",
   "metadata": {},
   "outputs": [],
   "source": []
  }
 ],
 "metadata": {
  "kernelspec": {
   "display_name": "Python 3 (ipykernel)",
   "language": "python",
   "name": "python3"
  },
  "language_info": {
   "codemirror_mode": {
    "name": "ipython",
    "version": 3
   },
   "file_extension": ".py",
   "mimetype": "text/x-python",
   "name": "python",
   "nbconvert_exporter": "python",
   "pygments_lexer": "ipython3",
   "version": "3.9.12"
  }
 },
 "nbformat": 4,
 "nbformat_minor": 5
}
