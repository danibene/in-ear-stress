{
 "cells": [
  {
   "cell_type": "code",
   "execution_count": 1,
   "id": "9d4a2add",
   "metadata": {},
   "outputs": [],
   "source": [
    "import matplotlib.pyplot as plt\n",
    "from scipy.io import wavfile\n",
    "import pandas as pd\n",
    "import numpy as np\n",
    "import os\n",
    "import pathlib\n",
    "import sys"
   ]
  },
  {
   "cell_type": "code",
   "execution_count": 3,
   "id": "2748b387",
   "metadata": {},
   "outputs": [],
   "source": [
    "code_paths = {}\n",
    "code_paths[\"repo_name\"] = \"p5-stress-classifier\"\n",
    "\n",
    "code_paths[\"repo_path\"] = os.getcwd()\n",
    "base_dir = os.path.basename(code_paths[\"repo_path\"])\n",
    "while base_dir != code_paths[\"repo_name\"]:\n",
    "    code_paths[\"repo_path\"] = os.path.dirname(os.path.abspath(code_paths[\"repo_path\"]))\n",
    "    base_dir = os.path.basename(code_paths[\"repo_path\"])\n",
    "\n",
    "package_dir = pathlib.Path(code_paths[\"repo_path\"], \"src\")\n",
    "sys.path.append(str(package_dir))\n",
    "from stresspred import (\n",
    "    peak_time_to_rri,\n",
    "    P5_StressDataLoader,\n",
    "    timestamp_to_samp,\n",
    "    resample_nonuniform,\n",
    "    code_paths,\n",
    "    timestamps_to_audacity_txt,\n",
    "    find_files_with_string,\n",
    "    hb_extract,\n",
    "    frame_timestamps,\n",
    "    find_local_hb_peaks,\n",
    "    get_camel_case,\n",
    "    write_dict_to_json,\n",
    "    append_to_np_txt\n",
    ")"
   ]
  },
  {
   "cell_type": "code",
   "execution_count": 23,
   "id": "05cc142e",
   "metadata": {},
   "outputs": [],
   "source": [
    "save = True\n",
    "txt_path=\"out.txt\"\n",
    "label=\"testing\"\n",
    "timestamp = np.random.random(3)\n",
    "timestamp = np.array(timestamp, dtype=object)\n",
    "rewrite=True\n",
    "if len(timestamp.shape) == 1:\n",
    "    start = timestamp\n",
    "    end = timestamp\n",
    "else:\n",
    "    start = timestamp[:, 0]\n",
    "    end = timestamp[:, 1]\n",
    "labels = np.array([label] * len(timestamp))\n",
    "a = np.stack((start, end, labels), axis=1)\n",
    "if save:\n",
    "    append_to_np_txt(\n",
    "        a=a,\n",
    "        txt_path=txt_path,\n",
    "        fmt=\"%f\\t\" + \"%f\\t\" + \"%s\",\n",
    "        delimiter=\"\\t\",\n",
    "        newline=\"\\n\",\n",
    "        rewrite=rewrite,\n",
    "    )"
   ]
  },
  {
   "cell_type": "code",
   "execution_count": 19,
   "id": "7f4dffb0",
   "metadata": {},
   "outputs": [
    {
     "data": {
      "text/plain": [
       "array([['0.9549816804432577', '0.9549816804432577', 'testing'],\n",
       "       ['0.02750679779350451', '0.02750679779350451', 'testing'],\n",
       "       ['0.0716188661888787', '0.0716188661888787', 'testing']],\n",
       "      dtype='<U32')"
      ]
     },
     "execution_count": 19,
     "metadata": {},
     "output_type": "execute_result"
    }
   ],
   "source": [
    "a"
   ]
  },
  {
   "cell_type": "code",
   "execution_count": null,
   "id": "9ab495c9",
   "metadata": {},
   "outputs": [],
   "source": []
  },
  {
   "cell_type": "code",
   "execution_count": null,
   "id": "b08098d6",
   "metadata": {},
   "outputs": [],
   "source": [
    "append_to_np_txt(\n",
    "            a=a,\n",
    "            txt_path=\"out.txt\",\n",
    "            fmt=\"%f\\t\" + \"%f\\t\" + \"%s\",\n",
    "            delimiter=\"\\t\",\n",
    "            newline=\"\\n\",\n",
    "            rewrite=rewrite,\n",
    "        )"
   ]
  }
 ],
 "metadata": {
  "kernelspec": {
   "display_name": "Python 3 (ipykernel)",
   "language": "python",
   "name": "python3"
  },
  "language_info": {
   "codemirror_mode": {
    "name": "ipython",
    "version": 3
   },
   "file_extension": ".py",
   "mimetype": "text/x-python",
   "name": "python",
   "nbconvert_exporter": "python",
   "pygments_lexer": "ipython3",
   "version": "3.9.12"
  }
 },
 "nbformat": 4,
 "nbformat_minor": 5
}
