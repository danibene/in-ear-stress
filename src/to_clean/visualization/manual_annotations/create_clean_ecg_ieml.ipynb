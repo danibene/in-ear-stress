{
 "cells": [
  {
   "cell_type": "code",
   "execution_count": 1,
   "id": "aaeb8f2a",
   "metadata": {},
   "outputs": [
    {
     "name": "stderr",
     "output_type": "stream",
     "text": [
      "C:\\Users\\dbenesch\\.conda\\envs\\stress-requirements\\lib\\site-packages\\paramiko\\transport.py:219: CryptographyDeprecationWarning: Blowfish has been deprecated\n",
      "  \"class\": algorithms.Blowfish,\n"
     ]
    }
   ],
   "source": [
    "import matplotlib.pyplot as plt\n",
    "from scipy.io import wavfile\n",
    "import pandas as pd\n",
    "import numpy as np\n",
    "import os\n",
    "import pathlib\n",
    "import sys\n",
    "\n",
    "code_paths = {}\n",
    "code_paths[\"repo_name\"] = \"p5-stress-classifier\"\n",
    "\n",
    "code_paths[\"repo_path\"] = os.getcwd()\n",
    "base_dir = os.path.basename(code_paths[\"repo_path\"])\n",
    "while base_dir != code_paths[\"repo_name\"]:\n",
    "    code_paths[\"repo_path\"] = os.path.dirname(os.path.abspath(code_paths[\"repo_path\"]))\n",
    "    base_dir = os.path.basename(code_paths[\"repo_path\"])\n",
    "\n",
    "package_dir = pathlib.Path(code_paths[\"repo_path\"], \"src\")\n",
    "sys.path.append(str(package_dir))\n",
    "from stresspred import (\n",
    "    peak_time_to_rri,\n",
    "    P5_StressDataLoader,\n",
    "    timestamp_to_samp,\n",
    "    resample_nonuniform,\n",
    "    code_paths,\n",
    "    timestamps_to_audacity_txt,\n",
    "    find_files_with_string,\n",
    "    get_camel_case\n",
    ")"
   ]
  },
  {
   "cell_type": "code",
   "execution_count": 2,
   "id": "94434c43",
   "metadata": {},
   "outputs": [],
   "source": [
    "for path in code_paths[\"neurokit2_paths\"]:\n",
    "    sys.path.append(str(path))\n",
    "    \n",
    "from neurokit2 import signal_interpolate, find_outliers\n",
    "import neurokit2 as nk"
   ]
  },
  {
   "cell_type": "code",
   "execution_count": 3,
   "id": "5277ae05",
   "metadata": {},
   "outputs": [],
   "source": [
    "from stresspred import get_frame_start_stop, get_frame, append_samples_to_wav\n",
    "def clean_sig(\n",
    "    sig,\n",
    "    sig_time=None,\n",
    "    wav_path=\"out.wav\",\n",
    "    sampling_rate=1000,\n",
    "    frame_len=np.inf,\n",
    "    method=\"own_filt\",\n",
    "    show=False\n",
    "):\n",
    "\n",
    "    #sig = sig - np.nanmean(sig)\n",
    "    #sig[np.isnan(sig)] = 0\n",
    "    #sig = sig / np.max(np.abs(sig))\n",
    "    in_start_stop, out_start_stop = get_frame_start_stop(sig_time, frame_len=frame_len)\n",
    "    for frame_n in np.arange(1, len(in_start_stop) + 1):\n",
    "        \n",
    "        frame_sig = get_frame(sig, sig_time, in_start_stop, frame_n)\n",
    "        frame_sig_time = get_frame(sig_time, sig_time, in_start_stop, frame_n)\n",
    "        frame_sig_time_r = frame_sig_time\n",
    "        if method==\"own_filt\":\n",
    "            frame_sig_r = nk.signal_filter(\n",
    "                frame_sig,\n",
    "                sampling_rate=sampling_rate,\n",
    "                lowcut=0.5,\n",
    "                highcut=8,\n",
    "            )\n",
    "        elif method==\"nk_ecg_clean\":\n",
    "            frame_sig_r = nk.ecg_clean(frame_sig, sampling_rate=sampling_rate, method=\"pantompkins1985\")\n",
    "        else:\n",
    "            frame_sig_r = nk.ppg_clean(frame_sig, sampling_rate=sampling_rate)\n",
    "        out_frame_sig_r = get_frame(\n",
    "            frame_sig_r, frame_sig_time_r, out_start_stop, frame_n\n",
    "        )\n",
    "        out_frame_sig_time_r = get_frame(\n",
    "            frame_sig_time_r, frame_sig_time_r, out_start_stop, frame_n\n",
    "        )\n",
    "        if show:\n",
    "            plt.figure(figsize=(15,3))\n",
    "            plt.plot(frame_sig_time, frame_sig)\n",
    "            plt.plot(frame_sig_time_r, frame_sig_r)\n",
    "            plt.plot(out_frame_sig_time_r, out_frame_sig_r)\n",
    "            plt.xlabel(\"Time (s)\")\n",
    "            plt.title(\"Frame \" + str(frame_n))\n",
    "            plt.legend([\"Original input signal\", \"Processed input signal\", \"Output signal\"])\n",
    "            plt.show()\n",
    "        if frame_n == 1:\n",
    "            append_samples_to_wav(\n",
    "                out_frame_sig_r, wav_path, sampling_rate, rewrite=True\n",
    "            )\n",
    "        else:\n",
    "            append_samples_to_wav(\n",
    "                out_frame_sig_r, wav_path, sampling_rate, rewrite=False\n",
    "            )\n",
    "    if frame_len == np.inf:\n",
    "        out_frame_sig_r_time = get_frame(\n",
    "            frame_sig_time_r, frame_sig_time_r, out_start_stop, frame_n\n",
    "        )\n",
    "        sig_info = {}\n",
    "        sig_info[\"sig\"] = out_frame_sig_r\n",
    "        sig_info[\"time\"] = out_frame_sig_r_time\n",
    "        sig_info[\"sampling_rate\"] = sampling_rate\n",
    "        return sig_info"
   ]
  },
  {
   "cell_type": "code",
   "execution_count": 4,
   "id": "9498ed1e",
   "metadata": {},
   "outputs": [],
   "source": [
    "def get_name_conv(\n",
    "    dataset_name=\"P5_Stress\",\n",
    "    sub_label=None,\n",
    "    sub_id=1,\n",
    "    part_id=1,\n",
    "    sig_name=\"zephyr_ecg\",\n",
    "    info_types_str=\"\",\n",
    "    v_str=\"\",\n",
    "    end_add=\"\",\n",
    "    ext=\".txt\",\n",
    "):\n",
    "    if sub_label is None:\n",
    "        sub_label = \"P0\" + str(sub_id)\n",
    "    new_name = (\n",
    "        dataset_name\n",
    "        + \"-\"\n",
    "        + sub_label\n",
    "        + \"_\"\n",
    "        + str(part_id)\n",
    "        + \"-\"\n",
    "        + sig_name\n",
    "        + \"-\"\n",
    "        + info_types_str\n",
    "        + v_str\n",
    "        + end_add\n",
    "        + ext\n",
    "    )\n",
    "    \n",
    "    new_file_parent_path = pathlib.Path(sub_label, \"part\" + str(part_id), sig_name)\n",
    "    if v_str != \"\":\n",
    "        new_file_parent_path = pathlib.Path(new_file_parent_path, v_str.split(\"_\")[1])\n",
    "    new_file_path = str(pathlib.Path(new_file_parent_path, new_name))\n",
    "    return new_file_path"
   ]
  },
  {
   "cell_type": "code",
   "execution_count": 7,
   "id": "6fd67ce1",
   "metadata": {},
   "outputs": [],
   "source": [
    "root_dir = str(pathlib.Path(r\"Z:\\Shared\\Documents\\RD\\RD2\\_AudioRD\\datasets\\Biosignals\\CritiasStress\\data_derivatives\\Stage_ltallon\"))"
   ]
  },
  {
   "cell_type": "code",
   "execution_count": 9,
   "id": "8e49f5c8",
   "metadata": {
    "scrolled": true
   },
   "outputs": [],
   "source": [
    "for sub_id in [1, 2, 3, 4, 5, 6]:\n",
    "    for sig_name in [\"ieml\"]:\n",
    "        if sub_id == 4:\n",
    "            part_ids = [1, 2]\n",
    "        else:\n",
    "            part_ids = [1]\n",
    "        for part_id in part_ids:\n",
    "            loader = P5_StressDataLoader(sub_id=sub_id, part_id=part_id)\n",
    "            sig_info = loader.get_sig(sig_name, data_format=\"DB8k\")\n",
    "            wav_path = str(\n",
    "                pathlib.Path(\n",
    "                    root_dir,\n",
    "                    get_name_conv(\n",
    "                        sub_id=sub_id,\n",
    "                        part_id=part_id,\n",
    "                        sig_name=sig_name,\n",
    "                        ext=\".wav\",\n",
    "                        info_types_str=\"Sig-Clean\",\n",
    "                    ),\n",
    "                )\n",
    "            )\n",
    "            cleaned_info = clean_sig(\n",
    "                sig=sig_info[\"sig\"],\n",
    "                sig_time=sig_info[\"time\"],\n",
    "                wav_path=wav_path,\n",
    "                sampling_rate=sig_info[\"sampling_rate\"],\n",
    "                frame_len=180,\n",
    "                show=False,\n",
    "            )"
   ]
  },
  {
   "cell_type": "code",
   "execution_count": 8,
   "id": "7555c085",
   "metadata": {},
   "outputs": [
    {
     "data": {
      "text/plain": [
       "'C:\\\\Users\\\\dbenesch\\\\Documents\\\\Stage_ltallon_new\\\\P01\\\\part1\\\\zephyr_ecg\\\\v2\\\\P5_Stress-P01_1-zephyr_ecg-Sig-Clean_v2.wav'"
      ]
     },
     "execution_count": 8,
     "metadata": {},
     "output_type": "execute_result"
    }
   ],
   "source": [
    "wav_path = str(\n",
    "                pathlib.Path(\n",
    "                    new_root_dir,\n",
    "                    get_name_conv(\n",
    "                        sub_id=sub_id,\n",
    "                        part_id=part_id,\n",
    "                        sig_name=sig_name,\n",
    "                        ext=\".wav\",\n",
    "                        info_types_str=\"Sig-Clean\",\n",
    "                        v_str=\"_v2\"\n",
    "                    ),\n",
    "                )\n",
    "            )\n",
    "wav_path"
   ]
  },
  {
   "cell_type": "code",
   "execution_count": null,
   "id": "0b3e7fca",
   "metadata": {},
   "outputs": [],
   "source": [
    "for \n",
    "\n",
    "loader = P5_StressDataLoader(sub_id=sub_label, part_id=part_id)\n",
    "sig_name = \"ieml\"\n",
    "sig_info = loader.get_sig(sig_name, data_format=\"DB8k\", file_path=file_path)\n",
    "\n",
    "\n",
    "anno_parent_paths = [d for d in anno_info_path.parent.glob(\"Task*\") if d.is_dir()]\n",
    "anno_parent_path = anno_parent_paths[6]\n",
    "wav_file_paths = [\n",
    "    os.path.join(anno_parent_path, f)\n",
    "    for f in os.listdir(anno_parent_path)\n",
    "    if \".wav\" in f and get_camel_case(sig_name, first_upper=True) in f\n",
    "]\n",
    "file_path = wav_file_paths[0]\n",
    "sub_label = pathlib.Path(file_path).stem.split(\"-\")[1][:3]"
   ]
  },
  {
   "cell_type": "code",
   "execution_count": null,
   "id": "6a9f7cd4",
   "metadata": {},
   "outputs": [],
   "source": []
  },
  {
   "cell_type": "code",
   "execution_count": null,
   "id": "b42c9271",
   "metadata": {},
   "outputs": [],
   "source": [
    "\n",
    "sig_info = loader.get_sig(sig_name, data_format=\"DB8k\", file_path=file_path)\n",
    "\n",
    "ppg_cleaned_info = clean_ppg(\n",
    "    sig=sig_info[\"sig\"],\n",
    "    sig_time=sig_info[\"time\"],\n",
    "    wav_path=wav_path,\n",
    "    sampling_rate=sig_info[\"sampling_rate\"],\n",
    "    frame_len=180,\n",
    "    show=True\n",
    ")"
   ]
  },
  {
   "cell_type": "code",
   "execution_count": null,
   "id": "a0a9a845",
   "metadata": {},
   "outputs": [],
   "source": []
  }
 ],
 "metadata": {
  "kernelspec": {
   "display_name": "Python 3 (ipykernel)",
   "language": "python",
   "name": "python3"
  },
  "language_info": {
   "codemirror_mode": {
    "name": "ipython",
    "version": 3
   },
   "file_extension": ".py",
   "mimetype": "text/x-python",
   "name": "python",
   "nbconvert_exporter": "python",
   "pygments_lexer": "ipython3",
   "version": "3.9.12"
  }
 },
 "nbformat": 4,
 "nbformat_minor": 5
}
