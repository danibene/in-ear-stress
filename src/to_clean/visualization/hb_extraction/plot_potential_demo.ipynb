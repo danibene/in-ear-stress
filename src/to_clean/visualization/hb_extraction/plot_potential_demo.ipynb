{
 "cells": [
  {
   "cell_type": "code",
   "execution_count": 2,
   "id": "26dd9291",
   "metadata": {},
   "outputs": [],
   "source": [
    "import os\n",
    "import sys\n",
    "code_paths = {}\n",
    "code_paths[\"repo_name\"] = \"p5-stress-classifier\"\n",
    "code_paths[\"package_parent_dir\"] = \"lib\"\n",
    "    \n",
    "\n",
    "code_paths[\"repo_path\"] = os.getcwd()\n",
    "base_dir = os.path.basename(code_paths[\"repo_path\"])\n",
    "while base_dir != code_paths[\"repo_name\"]:\n",
    "    code_paths[\"repo_path\"] = os.path.dirname(os.path.abspath(code_paths[\"repo_path\"]))\n",
    "    base_dir = os.path.basename(code_paths[\"repo_path\"])\n",
    "    \n",
    "package_dir = os.path.join(code_paths[\"repo_path\"], \"src\")\n",
    "sys.path.insert(0, package_dir)"
   ]
  },
  {
   "cell_type": "code",
   "execution_count": 3,
   "id": "1e7616dc",
   "metadata": {},
   "outputs": [
    {
     "name": "stderr",
     "output_type": "stream",
     "text": [
      "C:\\Users\\dbenesch\\.conda\\envs\\stress-requirements\\lib\\site-packages\\paramiko\\transport.py:219: CryptographyDeprecationWarning: Blowfish has been deprecated\n",
      "  \"class\": algorithms.Blowfish,\n"
     ]
    }
   ],
   "source": [
    "from stresspred import (code_paths,\n",
    "                        P5_StressDataLoader, \n",
    "                        P5M5DataLoader, \n",
    "                        hb_extract, \n",
    "                        peak_time_to_rri, \n",
    "                        resample_nonuniform, \n",
    "                        timestamp_to_samp,\n",
    "                        samp_to_timestamp,\n",
    "                        find_local_hb_peaks,\n",
    "                        get_local_hb_sig,\n",
    "                        argtop_k)"
   ]
  },
  {
   "cell_type": "code",
   "execution_count": 4,
   "id": "4bd12b29",
   "metadata": {},
   "outputs": [],
   "source": [
    "for path in code_paths[\"neurokit2_paths\"]:\n",
    "    sys.path.insert(0, path)\n",
    "import neurokit2 as nk"
   ]
  },
  {
   "cell_type": "code",
   "execution_count": 5,
   "id": "0fe54b65",
   "metadata": {},
   "outputs": [],
   "source": [
    "import matplotlib.pyplot as plt\n",
    "import numpy as np\n",
    "from json_tricks import dump, dumps, load, loads"
   ]
  },
  {
   "cell_type": "code",
   "execution_count": 8,
   "id": "d108e3bf",
   "metadata": {},
   "outputs": [],
   "source": [
    "out_parent_path_rstr = r\"Z:\\Shared\\Documents\\RD\\RD2\\_Projets\\Pascal\\P5 In-Ear Biosignal Monitoring\\DanielleEersBridge\\P5_Stress_label\\_gitSave\\hb_extraction\\potential_demo\\json_files\"\n",
    "out_parent_path = os.path.join(*out_parent_path_rstr.split(\"\\\\\"))\n",
    "if not os.path.exists(out_parent_path):\n",
    "    os.makedirs(out_parent_path)"
   ]
  },
  {
   "cell_type": "code",
   "execution_count": null,
   "id": "72564c3f",
   "metadata": {
    "scrolled": true
   },
   "outputs": [
    {
     "name": "stderr",
     "output_type": "stream",
     "text": [
      "C:\\Users\\dbenesch\\eers\\git\\p5-stress-classifier\\src\\stresspred\\preprocessing.py:177: UserWarning: Warning: the difference between timepoints is not uniform\n",
      "  warn(\"Warning: the difference between timepoints is not uniform\")\n",
      "C:\\Users\\dbenesch\\eers\\git\\p5-stress-classifier\\src\\stresspred\\preprocessing.py:177: UserWarning: Warning: the difference between timepoints is not uniform\n",
      "  warn(\"Warning: the difference between timepoints is not uniform\")\n"
     ]
    }
   ],
   "source": [
    "min_bpm = 40\n",
    "max_bpm = 200\n",
    "interval_min = 60/max_bpm\n",
    "interval_max = 60/min_bpm\n",
    "            \n",
    "for sub_id in [5]:\n",
    "    out_path = os.path.join(out_parent_path, \"out\" + str(sub_id) + \".json\")\n",
    "    out = {}\n",
    "    labels = [\"problematic_part_sig\"]\n",
    "    for label in labels:\n",
    "        out[label] = {}\n",
    "        for sig_name in [\"zephyr_ecg\", \"ieml\", \"ti_ppg\"]:\n",
    "            start = 0\n",
    "            end = 1000\n",
    "            sig_info = P5_StressDataLoader(sub_id=sub_id).get_sig(sig_name=sig_name, start_time=start, end_time=end, new_sampling_rate=8000)\n",
    "            sig_info[\"peak_time\"] = hb_extract(sig=sig_info[\"sig\"], sig_time=sig_info[\"time\"], sig_name=sig_info[\"name\"])\n",
    "            sig_info[\"cor_peak_time\"] = find_local_hb_peaks(sig_info[\"peak_time\"], \n",
    "                                 sig=sig_info[\"sig\"], \n",
    "                                 sig_time=sig_info[\"time\"], \n",
    "                                 sampling_rate=sig_info[\"sampling_rate\"], \n",
    "                                 check_height_outlier=True)\n",
    "            samp = timestamp_to_samp(sig_info[\"cor_peak_time\"], sig_info[\"sampling_rate\"], sig_info[\"time\"])\n",
    "            clean_peak_samp = nk.signal_fixpeaks(\n",
    "                samp,\n",
    "                sampling_rate=sig_info[\"sampling_rate\"],\n",
    "                interval_min=interval_min, interval_max=interval_max, method=\"neurokit\")\n",
    "            clean_peak_time = samp_to_timestamp(clean_peak_samp, sig_time=sig_info[\"time\"])\n",
    "            cor_clean_peak_time = find_local_hb_peaks(clean_peak_time, \n",
    "                     sig=sig_info[\"sig\"], \n",
    "                     sig_time=sig_info[\"time\"], \n",
    "                     sampling_rate=sig_info[\"sampling_rate\"], \n",
    "                     check_height_outlier=True)\n",
    "            sig_info[\"cor_clean_peak_time\"] = cor_clean_peak_time\n",
    "            out[label][sig_name] = sig_info \n",
    "            with open(out_path, \"w\") as json_file:\n",
    "                dump(out, json_file)"
   ]
  },
  {
   "cell_type": "code",
   "execution_count": 9,
   "id": "c51ece6b",
   "metadata": {},
   "outputs": [],
   "source": [
    "json_paths = [ f.path for f in os.scandir(out_parent_path) if \"out\" in f.path and \".json\" in f.path ]\n",
    "out_figure_dir_path_rstr = r\"Z:\\Shared\\Documents\\RD\\RD2\\_Projets\\Pascal\\P5 In-Ear Biosignal Monitoring\\DanielleEersBridge\\P5_Stress_label\\_gitSave\\hb_extraction\\potential_demo\\figures\"\n",
    "out_figure_dir_path = os.path.join(*out_figure_dir_path_rstr.split(\"\\\\\"))\n",
    "if not os.path.exists(out_figure_dir_path):\n",
    "    os.makedirs(out_figure_dir_path)"
   ]
  },
  {
   "cell_type": "code",
   "execution_count": 10,
   "id": "373eb1f8",
   "metadata": {},
   "outputs": [
    {
     "ename": "MemoryError",
     "evalue": "",
     "output_type": "error",
     "traceback": [
      "\u001b[1;31m---------------------------------------------------------------------------\u001b[0m",
      "\u001b[1;31mMemoryError\u001b[0m                               Traceback (most recent call last)",
      "Input \u001b[1;32mIn [10]\u001b[0m, in \u001b[0;36m<cell line: 1>\u001b[1;34m()\u001b[0m\n\u001b[0;32m      1\u001b[0m \u001b[38;5;28;01mfor\u001b[39;00m json_path \u001b[38;5;129;01min\u001b[39;00m json_paths:\n\u001b[0;32m      2\u001b[0m     \u001b[38;5;28;01mwith\u001b[39;00m \u001b[38;5;28mopen\u001b[39m(json_path, \u001b[38;5;124m\"\u001b[39m\u001b[38;5;124mr\u001b[39m\u001b[38;5;124m\"\u001b[39m) \u001b[38;5;28;01mas\u001b[39;00m json_file:\n\u001b[1;32m----> 3\u001b[0m         data \u001b[38;5;241m=\u001b[39m \u001b[43mload\u001b[49m\u001b[43m(\u001b[49m\u001b[43mjson_file\u001b[49m\u001b[43m)\u001b[49m\n\u001b[0;32m      4\u001b[0m     \u001b[38;5;28;01mfor\u001b[39;00m label \u001b[38;5;129;01min\u001b[39;00m data\u001b[38;5;241m.\u001b[39mkeys():\n\u001b[0;32m      5\u001b[0m         file_name_start \u001b[38;5;241m=\u001b[39m os\u001b[38;5;241m.\u001b[39mpath\u001b[38;5;241m.\u001b[39msplitext(os\u001b[38;5;241m.\u001b[39mpath\u001b[38;5;241m.\u001b[39mbasename(json_path))[\u001b[38;5;241m0\u001b[39m]\n",
      "File \u001b[1;32m~\\.conda\\envs\\stress-requirements\\lib\\site-packages\\json_tricks\\nonp.py:261\u001b[0m, in \u001b[0;36mload\u001b[1;34m(fp, preserve_order, ignore_comments, decompression, obj_pairs_hooks, extra_obj_pairs_hooks, cls_lookup_map, allow_duplicates, conv_str_byte, properties, **jsonkwargs)\u001b[0m\n\u001b[0;32m    259\u001b[0m \t\t\tstring \u001b[38;5;241m=\u001b[39m fh\u001b[38;5;241m.\u001b[39mread()\n\u001b[0;32m    260\u001b[0m \t\u001b[38;5;28;01melse\u001b[39;00m:\n\u001b[1;32m--> 261\u001b[0m \t\tstring \u001b[38;5;241m=\u001b[39m \u001b[43mfp\u001b[49m\u001b[38;5;241;43m.\u001b[39;49m\u001b[43mread\u001b[49m\u001b[43m(\u001b[49m\u001b[43m)\u001b[49m\n\u001b[0;32m    262\u001b[0m \u001b[38;5;28;01mexcept\u001b[39;00m \u001b[38;5;167;01mUnicodeDecodeError\u001b[39;00m \u001b[38;5;28;01mas\u001b[39;00m err:\n\u001b[0;32m    263\u001b[0m \t\u001b[38;5;66;03m# todo: not covered in tests, is it relevant?\u001b[39;00m\n\u001b[0;32m    264\u001b[0m \t\u001b[38;5;28;01mraise\u001b[39;00m \u001b[38;5;167;01mException\u001b[39;00m(\u001b[38;5;124m'\u001b[39m\u001b[38;5;124mThere was a problem decoding the file content. A possible reason is that the file is not \u001b[39m\u001b[38;5;124m'\u001b[39m \u001b[38;5;241m+\u001b[39m\n\u001b[0;32m    265\u001b[0m \t\t\u001b[38;5;124m'\u001b[39m\u001b[38;5;124mopened  in binary mode; be sure to set file mode to something like \u001b[39m\u001b[38;5;124m\"\u001b[39m\u001b[38;5;124mrb\u001b[39m\u001b[38;5;124m\"\u001b[39m\u001b[38;5;124m.\u001b[39m\u001b[38;5;124m'\u001b[39m)\u001b[38;5;241m.\u001b[39mwith_traceback(exc_info()[\u001b[38;5;241m2\u001b[39m])\n",
      "\u001b[1;31mMemoryError\u001b[0m: "
     ]
    }
   ],
   "source": [
    "for json_path in json_paths:\n",
    "    with open(json_path, \"r\") as json_file:\n",
    "        data = load(json_file)\n",
    "    for label in data.keys():\n",
    "        file_name_start = os.path.splitext(os.path.basename(json_path))[0]\n",
    "        fig_file_name = file_name_start + \"_\" + label + \"_peak_cor.png\"\n",
    "        fig_file_path = os.path.join(out_figure_dir_path, fig_file_name)\n",
    "        sig_names = data[label].keys()\n",
    "        fig = plt.figure(figsize=(15,15))\n",
    "        ax1 = fig.add_subplot(311)\n",
    "        for sig_name in sig_names:\n",
    "            rri, rri_time = peak_time_to_rri(data[label][sig_name][\"peak_time\"])\n",
    "            ax1.plot(rri_time, rri)\n",
    "        ax1.set_ylim([60000/200,60000/60])\n",
    "        ax1.legend(sig_names)\n",
    "        ax1.set_title(label + \": Before correction\")\n",
    "        ax2 = fig.add_subplot(312, sharey=ax1, sharex=ax1)   \n",
    "        for sig_name in sig_names:\n",
    "            rri, rri_time = peak_time_to_rri(data[label][sig_name][\"cor_peak_time\"])\n",
    "            ax2.plot(rri_time, rri)\n",
    "        ax2.set_title(label + \": After correction\")\n",
    "        ax2.legend(sig_names)\n",
    "        sig_info = data[label][\"ieml\"]\n",
    "        sig=sig_info[\"sig\"]\n",
    "        sig_time=sig_info[\"time\"]\n",
    "        sampling_rate=sig_info[\"sampling_rate\"]\n",
    "        peaks = sig_info[\"peak_time\"]\n",
    "        new_peaks = sig_info[\"cor_peak_time\"]\n",
    "        ax3 = fig.add_subplot(313, sharex=ax1)   \n",
    "        ax3.plot(sig_time, sig)\n",
    "        samp = timestamp_to_samp(peaks, sampling_rate, sig_time)\n",
    "        peaks = peaks[samp > 0]\n",
    "        samp = samp[samp > 0]\n",
    "        ax3.scatter(peaks,\n",
    "                    sig[samp], color=\"red\", alpha=0.5)\n",
    "        samp = timestamp_to_samp(new_peaks, sampling_rate, sig_time)\n",
    "        new_peaks = new_peaks[samp > 0]\n",
    "        samp = samp[samp > 0]\n",
    "        ax3.set_title(label + \": TD IEML\")\n",
    "        ax3.scatter(new_peaks,\n",
    "                    sig[samp], color=\"green\", alpha=0.5)\n",
    "        ax3.legend([\"Raw signal\",\"Before correction\", \"After correction\"])\n",
    "        plt.savefig(fig_file_path)\n",
    "        plt.show()"
   ]
  },
  {
   "cell_type": "code",
   "execution_count": 9,
   "id": "e94a4733",
   "metadata": {
    "scrolled": true
   },
   "outputs": [
    {
     "data": {
      "text/plain": [
       "[<matplotlib.lines.Line2D at 0x276ade93e50>]"
      ]
     },
     "execution_count": 9,
     "metadata": {},
     "output_type": "execute_result"
    },
    {
     "data": {
      "image/png": "[encoded data removed]",
      "text/plain": [
       "<Figure size 432x288 with 1 Axes>"
      ]
     },
     "metadata": {
      "needs_background": "light"
     },
     "output_type": "display_data"
    }
   ],
   "source": [
    "rri, rri_time = peak_time_to_rri(samp/8000)\n",
    "plt.plot(rri_time, rri)"
   ]
  },
  {
   "cell_type": "code",
   "execution_count": 10,
   "id": "be51d818",
   "metadata": {},
   "outputs": [
    {
     "data": {
      "text/plain": [
       "array([  0.293   ,   1.175   ,   2.007625,   2.759375,   3.5325  ,\n",
       "         4.341   ,   5.375625,   6.023   ,   6.954375,   7.3415  ,\n",
       "         8.138375,   9.00475 ,   9.818625,  10.603125,  11.428125,\n",
       "        12.29125 ,  13.11925 ,  13.87975 ,  14.68075 ,  15.5115  ,\n",
       "        16.348625,  17.131375,  17.94    ,  18.771125,  19.616   ,\n",
       "        20.3935  ,  21.1895  ,  22.01825 ,  22.823625,  23.581625,\n",
       "        24.373625,  25.210875,  26.006875,  26.76075 ,  27.562625,\n",
       "        28.399125,  29.228375,  30.00525 ,  30.806   ,  31.648875,\n",
       "        32.52875 ,  33.34525 ,  34.121875,  34.94325 ,  35.781125,\n",
       "        36.578875,  37.358625,  38.215875,  39.0955  ,  39.922625,\n",
       "        40.719   ,  41.546   ,  42.386   ,  43.173875,  43.954875,\n",
       "        44.777375,  45.655625,  46.44675 ,  47.267375,  48.138625,\n",
       "        48.99175 ,  49.77775 ,  50.57175 ,  51.429875,  52.316125,\n",
       "        53.13225 ,  53.969125,  54.547375,  55.05375 ,  56.5695  ,\n",
       "        57.021375,  57.8005  ,  58.65025 ,  59.520375,  60.319625,\n",
       "        61.125125,  61.956625,  62.81275 ,  63.596375,  64.387625,\n",
       "        65.202375,  65.9985  ,  66.757625,  67.539625,  68.405875,\n",
       "        69.311125,  70.16225 ,  70.96    ,  71.7915  ,  72.65525 ,\n",
       "        73.22375 ,  73.99425 ,  74.7145  ,  75.385875,  76.207   ,\n",
       "        76.56975 ,  77.783625,  78.65275 ,  79.444625,  80.191125,\n",
       "        81.05075 ,  81.87225 ,  82.733375,  83.542125,  84.34075 ,\n",
       "        85.19075 ,  86.07875 ,  86.909875,  87.7285  ,  88.590375,\n",
       "        89.464625,  90.24425 ,  91.056875,  91.915625,  92.77225 ,\n",
       "        93.565625,  94.415   ,  95.3285  ,  96.202375,  97.007125,\n",
       "        97.82825 ,  98.696375,  99.54    , 100.306375, 101.104625,\n",
       "       101.95925 , 102.8165  , 103.598   , 104.417625, 105.041625,\n",
       "       106.033   , 106.781375, 107.430375, 108.11675 , 108.82    ,\n",
       "       109.52025 , 110.246125, 111.035   , 111.885625, 112.7505  ,\n",
       "       113.594   , 114.432375, 115.217875, 115.940375, 116.639   ,\n",
       "       117.358125, 118.111875, 118.490875, 119.505   , 120.47925 ,\n",
       "       121.202625, 122.283   , 123.35475 , 124.494625, 124.843875,\n",
       "       125.94675 , 126.404875, 127.54125 , 128.075375, 128.795125,\n",
       "       129.81575 , 130.6465  , 130.941   , 131.988125, 132.91275 ,\n",
       "       133.47    , 134.2335  , 135.013875, 135.785   , 136.49825 ,\n",
       "       137.214   , 137.977375, 138.786375, 139.6075  , 140.37675 ,\n",
       "       141.131125, 141.938375, 142.7855  , 143.633125, 144.402125,\n",
       "       145.130375, 145.849875, 146.607875, 147.422875, 148.210375,\n",
       "       148.9585  , 149.718   ])"
      ]
     },
     "execution_count": 10,
     "metadata": {},
     "output_type": "execute_result"
    }
   ],
   "source": [
    "samp/8000"
   ]
  },
  {
   "cell_type": "code",
   "execution_count": null,
   "id": "4dff4d9a",
   "metadata": {},
   "outputs": [],
   "source": []
  }
 ],
 "metadata": {
  "kernelspec": {
   "display_name": "Python 3 (ipykernel)",
   "language": "python",
   "name": "python3"
  },
  "language_info": {
   "codemirror_mode": {
    "name": "ipython",
    "version": 3
   },
   "file_extension": ".py",
   "mimetype": "text/x-python",
   "name": "python",
   "nbconvert_exporter": "python",
   "pygments_lexer": "ipython3",
   "version": "3.9.12"
  }
 },
 "nbformat": 4,
 "nbformat_minor": 5
}
