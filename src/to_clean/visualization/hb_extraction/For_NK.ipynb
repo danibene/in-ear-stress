{
 "cells": [
  {
   "cell_type": "code",
   "execution_count": null,
   "id": "e20a0c57",
   "metadata": {},
   "outputs": [],
   "source": [
    "import os\n",
    "import sys\n",
    "code_paths = {}\n",
    "code_paths[\"repo_name\"] = \"p5-stress-classifier\"\n",
    "code_paths[\"package_parent_dir\"] = \"lib\"\n",
    "    \n",
    "\n",
    "code_paths[\"repo_path\"] = os.getcwd()\n",
    "base_dir = os.path.basename(code_paths[\"repo_path\"])\n",
    "while base_dir != code_paths[\"repo_name\"]:\n",
    "    code_paths[\"repo_path\"] = os.path.dirname(os.path.abspath(code_paths[\"repo_path\"]))\n",
    "    base_dir = os.path.basename(code_paths[\"repo_path\"])\n",
    "    \n",
    "package_dir = os.path.join(code_paths[\"repo_path\"], \"src\")\n",
    "sys.path.insert(0, package_dir)\n",
    "from stresspred import code_paths\n",
    "for path in code_paths[\"neurokit2_paths\"]:\n",
    "    sys.path.insert(0, path)"
   ]
  },
  {
   "cell_type": "code",
   "execution_count": null,
   "id": "71a8249b",
   "metadata": {},
   "outputs": [],
   "source": [
    "import neurokit2 as nk"
   ]
  },
  {
   "cell_type": "code",
   "execution_count": null,
   "id": "60a0e122",
   "metadata": {},
   "outputs": [],
   "source": [
    "seed = 42\n",
    "duration = 120\n",
    "sampling_rate = 1000\n",
    "ecg = nk.ecg_simulate(\n",
    "    duration=duration, length=None, sampling_rate=sampling_rate, noise=0.01, heart_rate=70, heart_rate_std=1, method=\"ecgsyn\", random_state=seed\n",
    ")\n",
    "import numpy as np"
   ]
  },
  {
   "cell_type": "code",
   "execution_count": null,
   "id": "ac0f65b4",
   "metadata": {},
   "outputs": [],
   "source": [
    "import stopit\n",
    "import time"
   ]
  },
  {
   "cell_type": "code",
   "execution_count": null,
   "id": "8825f504",
   "metadata": {},
   "outputs": [],
   "source": [
    "ecg_with_missing = ecg.copy()\n",
    "missing_length = 10\n",
    "for start in [5]:\n",
    "    ecg_with_missing[int(sampling_rate*start):int(sampling_rate*(start + missing_length))] = 0"
   ]
  },
  {
   "cell_type": "code",
   "execution_count": 1,
   "id": "8e7f61aa",
   "metadata": {},
   "outputs": [
    {
     "ename": "NameError",
     "evalue": "name 'nk' is not defined",
     "output_type": "error",
     "traceback": [
      "\u001b[1;31m---------------------------------------------------------------------------\u001b[0m",
      "\u001b[1;31mNameError\u001b[0m                                 Traceback (most recent call last)",
      "Input \u001b[1;32mIn [1]\u001b[0m, in \u001b[0;36m<cell line: 1>\u001b[1;34m()\u001b[0m\n\u001b[1;32m----> 1\u001b[0m signal \u001b[38;5;241m=\u001b[39m \u001b[43mnk\u001b[49m\u001b[38;5;241m.\u001b[39msignal_simulate(duration\u001b[38;5;241m=\u001b[39m\u001b[38;5;241m20\u001b[39m, sampling_rate\u001b[38;5;241m=\u001b[39m\u001b[38;5;241m1000\u001b[39m, frequency\u001b[38;5;241m=\u001b[39m\u001b[38;5;241m1\u001b[39m)\n\u001b[0;32m      2\u001b[0m peaks_true \u001b[38;5;241m=\u001b[39m nk\u001b[38;5;241m.\u001b[39msignal_findpeaks(signal)[\u001b[38;5;124m\"\u001b[39m\u001b[38;5;124mPeaks\u001b[39m\u001b[38;5;124m\"\u001b[39m]\n\u001b[0;32m      3\u001b[0m peaks \u001b[38;5;241m=\u001b[39m np\u001b[38;5;241m.\u001b[39mdelete(peaks_true, [\u001b[38;5;241m5\u001b[39m,\u001b[38;5;241m6\u001b[39m,\u001b[38;5;241m7\u001b[39m,\u001b[38;5;241m8\u001b[39m,\u001b[38;5;241m9\u001b[39m,\u001b[38;5;241m10\u001b[39m,\u001b[38;5;241m15\u001b[39m,\u001b[38;5;241m16\u001b[39m,\u001b[38;5;241m17\u001b[39m])  \u001b[38;5;66;03m# create gaps (I added more)\u001b[39;00m\n",
      "\u001b[1;31mNameError\u001b[0m: name 'nk' is not defined"
     ]
    }
   ],
   "source": [
    "signal = nk.signal_simulate(duration=20, sampling_rate=1000, frequency=1)\n",
    "peaks_true = nk.signal_findpeaks(signal)[\"Peaks\"]\n",
    "peaks = np.delete(peaks_true, [5,6,7,8,9,10,15,16,17])  # create gaps (I added more)\n",
    "peaks = np.sort(np.append(peaks, [1350, 11350, 18350]))  # add artifacts"
   ]
  },
  {
   "cell_type": "code",
   "execution_count": null,
   "id": "5f6f3cd4",
   "metadata": {},
   "outputs": [],
   "source": [
    "import matplotlib.pyplot as plt\n",
    "plt.figure(figsize=(15,3))\n",
    "plt.plot(signal)    \n",
    "plt.scatter(peaks_true, signal[peaks_true], color=\"green\")\n",
    "plt.scatter(peaks, signal[peaks], color=\"red\")\n",
    "\n",
    "plt.show()"
   ]
  },
  {
   "cell_type": "code",
   "execution_count": 1,
   "id": "e9d1aaa4",
   "metadata": {},
   "outputs": [
    {
     "name": "stdout",
     "output_type": "stream",
     "text": [
      "Interval max: None\n"
     ]
    },
    {
     "ename": "NameError",
     "evalue": "name 'stopit' is not defined",
     "output_type": "error",
     "traceback": [
      "\u001b[1;31m---------------------------------------------------------------------------\u001b[0m",
      "\u001b[1;31mNameError\u001b[0m                                 Traceback (most recent call last)",
      "Input \u001b[1;32mIn [1]\u001b[0m, in \u001b[0;36m<cell line: 3>\u001b[1;34m()\u001b[0m\n\u001b[0;32m      3\u001b[0m \u001b[38;5;28;01mfor\u001b[39;00m interval_max \u001b[38;5;129;01min\u001b[39;00m interval_maxes:\n\u001b[0;32m      4\u001b[0m     \u001b[38;5;28mprint\u001b[39m(\u001b[38;5;124m\"\u001b[39m\u001b[38;5;124mInterval max: \u001b[39m\u001b[38;5;124m\"\u001b[39m \u001b[38;5;241m+\u001b[39m \u001b[38;5;28mstr\u001b[39m(interval_max))\n\u001b[1;32m----> 5\u001b[0m     \u001b[38;5;28;01mwith\u001b[39;00m \u001b[43mstopit\u001b[49m\u001b[38;5;241m.\u001b[39mThreadingTimeout(max_seconds) \u001b[38;5;28;01mas\u001b[39;00m context_manager:\n\u001b[0;32m      7\u001b[0m         t0 \u001b[38;5;241m=\u001b[39m time\u001b[38;5;241m.\u001b[39mtime()\n\u001b[0;32m      8\u001b[0m         peaks_corrected \u001b[38;5;241m=\u001b[39m nk\u001b[38;5;241m.\u001b[39msignal_fixpeaks(peaks\u001b[38;5;241m=\u001b[39mpeaks, interval_min\u001b[38;5;241m=\u001b[39m\u001b[38;5;241m0.5\u001b[39m, interval_max\u001b[38;5;241m=\u001b[39minterval_max, method\u001b[38;5;241m=\u001b[39m\u001b[38;5;124m\"\u001b[39m\u001b[38;5;124mneurokit\u001b[39m\u001b[38;5;124m\"\u001b[39m)\n",
      "\u001b[1;31mNameError\u001b[0m: name 'stopit' is not defined"
     ]
    }
   ],
   "source": [
    "interval_maxes = [None, 1.5, 2.0]\n",
    "max_seconds = 10\n",
    "for interval_max in interval_maxes:\n",
    "    print(\"Interval max: \" + str(interval_max))\n",
    "    with stopit.ThreadingTimeout(max_seconds) as context_manager:\n",
    "\n",
    "        t0 = time.time()\n",
    "        peaks_corrected = nk.signal_fixpeaks(peaks=peaks, interval_min=0.5, interval_max=interval_max, method=\"neurokit\")\n",
    "        t1 = time.time()\n",
    "\n",
    "    if context_manager.state == context_manager.EXECUTED:\n",
    "        total = t1-t0\n",
    "        print(\"Took \" + str(total) + \" seconds. EXECUTED\")\n",
    "        print(\"Peaks corrected: \")\n",
    "        print(peaks_corrected)\n",
    "    elif context_manager.state == context_manager.TIMED_OUT:\n",
    "        print(\"Took more than \" + str(max_seconds) + \" seconds. TIMED_OUT\")"
   ]
  },
  {
   "cell_type": "code",
   "execution_count": 67,
   "id": "8e8a2585",
   "metadata": {},
   "outputs": [
    {
     "name": "stdout",
     "output_type": "stream",
     "text": [
      "Took 0.0 seconds. EXECUTED\n"
     ]
    }
   ],
   "source": [
    "max_seconds = 10\n",
    "with stopit.ThreadingTimeout(max_seconds) as context_manager:\n",
    "    \n",
    "    t0 = time.time()\n",
    "    peaks_corrected = nk.signal_fixpeaks(peaks=peaks, interval_min=0.5, interval_max=None, method=\"neurokit\")\n",
    "    t1 = time.time()\n",
    "\n",
    "if context_manager.state == context_manager.EXECUTED:\n",
    "    total = t1-t0\n",
    "    print(\"Took \" + str(total) + \" seconds. EXECUTED\")\n",
    "elif context_manager.state == context_manager.TIMED_OUT:\n",
    "    print(\"Took more than \" + str(max_seconds) + \" seconds. TIMED_OUT\")"
   ]
  },
  {
   "cell_type": "code",
   "execution_count": 68,
   "id": "9ec66333",
   "metadata": {},
   "outputs": [
    {
     "data": {
      "text/plain": [
       "array([  250,  1250,  2250,  3250,  4250, 11250, 12250, 13250, 14250,\n",
       "       18250, 19250], dtype=int64)"
      ]
     },
     "execution_count": 68,
     "metadata": {},
     "output_type": "execute_result"
    }
   ],
   "source": [
    "peaks_corrected"
   ]
  },
  {
   "cell_type": "code",
   "execution_count": 69,
   "id": "756d30ab",
   "metadata": {},
   "outputs": [
    {
     "name": "stdout",
     "output_type": "stream",
     "text": [
      "Took 0.015625953674316406 seconds. EXECUTED\n"
     ]
    }
   ],
   "source": [
    "max_seconds = 10\n",
    "with stopit.ThreadingTimeout(max_seconds) as context_manager:\n",
    "    \n",
    "    t0 = time.time()\n",
    "    peaks_corrected = nk.signal_fixpeaks(peaks=peaks, interval_min=0.5, interval_max=2.0, method=\"neurokit\")\n",
    "    t1 = time.time()\n",
    "\n",
    "if context_manager.state == context_manager.EXECUTED:\n",
    "    total = t1-t0\n",
    "    print(\"Took \" + str(total) + \" seconds. EXECUTED\")\n",
    "elif context_manager.state == context_manager.TIMED_OUT:\n",
    "    print(\"Took more than \" + str(max_seconds) + \" seconds. TIMED_OUT\")"
   ]
  },
  {
   "cell_type": "code",
   "execution_count": 70,
   "id": "b77fe57a",
   "metadata": {},
   "outputs": [
    {
     "data": {
      "text/plain": [
       "array([   250,   1250,   2250,   3250,   4250,   5250,   6250,   7250,\n",
       "         8250,   9250,  11250,  12250,  13250,  14250,  10250,   3916,\n",
       "        -2973,  -9232, -14071, -16963, -18557, -19286, -19438, -19206,\n",
       "       -18718, -18059, -17286, -16437, -15537, -14603, -13647, -12676,\n",
       "       -11695, -10707,  -9714,  -8718,  -7720,  -6721,  -5721,  -4721,\n",
       "        -3720,  -2719,  -1718,   -717,    283,   1283,   2282,   3281,\n",
       "         4280,   5279,   6278,   7277,   8276,   9275,  10274,  11273,\n",
       "        12272,  13271,  14270,  15269,  16268,  18250,  19250],\n",
       "      dtype=int64)"
      ]
     },
     "execution_count": 70,
     "metadata": {},
     "output_type": "execute_result"
    }
   ],
   "source": [
    "peaks_corrected"
   ]
  },
  {
   "cell_type": "code",
   "execution_count": 8,
   "id": "2ac651f2",
   "metadata": {},
   "outputs": [],
   "source": [
    "def plot_fixpeaks(signal, peaks_true, peaks, **kwargs):\n",
    "    peaks_corrected = nk.signal_fixpeaks(peaks=peaks, **kwargs)\n",
    "    plt.figure(figsize=(15,3))\n",
    "    plt.plot(signal)    \n",
    "    plt.scatter(peaks_true, signal[peaks_true], color=\"green\")\n",
    "    plt.scatter(peaks, signal[peaks], color=\"red\")\n",
    "\n",
    "    plt.show()"
   ]
  },
  {
   "cell_type": "code",
   "execution_count": null,
   "id": "e1eb1720",
   "metadata": {},
   "outputs": [],
   "source": [
    "p = multiprocessing.Process(target=plot_fixpeaks, name=\"fix peaks\", kwargs={\"signal\":signal,\n",
    "                                                                            \"peaks_true\":peaks_true,\n",
    "                                                                            \"peaks\":peaks, \n",
    "                                                                             \"interval_min\":0.5, \n",
    "                                                                             \"interval_max\":1.5, \n",
    "                                                                             \"method\":\"neurokit\"}\n",
    "                           )\n",
    "p.start()\n",
    "\n",
    "# Wait 10 seconds for function\n",
    "time.sleep(10)\n",
    "\n",
    "# Terminate function\n",
    "p.terminate()\n",
    "\n",
    "# Cleanup\n",
    "p.join()"
   ]
  },
  {
   "cell_type": "code",
   "execution_count": null,
   "id": "af4bbcc9",
   "metadata": {},
   "outputs": [],
   "source": [
    "p = multiprocessing.Process(target=plot_fixpeaks, name=\"fix peaks\", kwargs={\"signal\":signal,\n",
    "                                                                            \"peaks_true\":peaks_true,\n",
    "                                                                            \"peaks\":peaks, \n",
    "                                                                             \"interval_min\":0.5, \n",
    "                                                                             \"interval_max\":1.5, \n",
    "                                                                             \"method\":\"neurokit\"}\n",
    "                           )\n",
    "p.start()\n",
    "\n",
    "max_seconds = 5\n",
    "time.sleep(max_seconds)\n",
    "\n",
    "p.join(max_seconds)\n",
    "p.terminate(max_)\n",
    "\n",
    "# If thread is active\n",
    "if p.is_alive():\n",
    "    print(\"Took more than \" + str(max_seconds) + \" seconds\")\n",
    "\n",
    "    # Terminate foo\n",
    "    p.terminate()\n",
    "    p.join()"
   ]
  },
  {
   "cell_type": "code",
   "execution_count": 39,
   "id": "7559c716",
   "metadata": {},
   "outputs": [],
   "source": [
    "p = multiprocessing.Process(target=nk.signal_fixpeaks, name=\"fix peaks\", kwargs={\"peaks\":peaks, \n",
    "                                                                                 \"interval_min\":0.5, \n",
    "                                                                                 \"interval_max\":1.5, \n",
    "                                                                                 \"method\":\"neurokit\"}\n",
    "                           )\n",
    "p.start()\n",
    "\n",
    "# Wait 10 seconds for function\n",
    "time.sleep(10)\n",
    "\n",
    "# Terminate function\n",
    "p.terminate()\n",
    "\n",
    "# Cleanup\n",
    "p.join()"
   ]
  },
  {
   "cell_type": "code",
   "execution_count": 41,
   "id": "5f4c2605",
   "metadata": {},
   "outputs": [],
   "source": [
    "p = multiprocessing.Process(target=nk.signal_fixpeaks, name=\"fix peaks\", kwargs={\"peaks\":peaks, \n",
    "                                                                                 \"interval_min\":None, \n",
    "                                                                                 \"interval_max\":None, \n",
    "                                                                                 \"method\":\"neurokit\"}\n",
    "                           )\n",
    "p.start()\n",
    "\n",
    "# Wait 10 seconds for function\n",
    "time.sleep(10)\n",
    "\n",
    "# Terminate function\n",
    "p.terminate()\n",
    "\n",
    "# Cleanup\n",
    "p.join()"
   ]
  },
  {
   "cell_type": "code",
   "execution_count": 42,
   "id": "da7163ff",
   "metadata": {},
   "outputs": [
    {
     "data": {
      "text/plain": [
       "<Process name='fix peaks' pid=1632 parent=11464 stopped exitcode=0>"
      ]
     },
     "execution_count": 42,
     "metadata": {},
     "output_type": "execute_result"
    }
   ],
   "source": [
    "p"
   ]
  },
  {
   "cell_type": "code",
   "execution_count": 34,
   "id": "144f2d82",
   "metadata": {},
   "outputs": [
    {
     "ename": "KeyboardInterrupt",
     "evalue": "",
     "output_type": "error",
     "traceback": [
      "\u001b[1;31m---------------------------------------------------------------------------\u001b[0m",
      "\u001b[1;31mKeyboardInterrupt\u001b[0m                         Traceback (most recent call last)",
      "Input \u001b[1;32mIn [34]\u001b[0m, in \u001b[0;36m<cell line: 1>\u001b[1;34m()\u001b[0m\n\u001b[1;32m----> 1\u001b[0m peaks_corrected \u001b[38;5;241m=\u001b[39m \u001b[43mnk\u001b[49m\u001b[38;5;241;43m.\u001b[39;49m\u001b[43msignal_fixpeaks\u001b[49m\u001b[43m(\u001b[49m\u001b[43mpeaks\u001b[49m\u001b[38;5;241;43m=\u001b[39;49m\u001b[43mpeaks\u001b[49m\u001b[43m,\u001b[49m\u001b[43m \u001b[49m\u001b[43minterval_min\u001b[49m\u001b[38;5;241;43m=\u001b[39;49m\u001b[38;5;241;43m0.5\u001b[39;49m\u001b[43m,\u001b[49m\u001b[43m \u001b[49m\u001b[43minterval_max\u001b[49m\u001b[38;5;241;43m=\u001b[39;49m\u001b[38;5;241;43m1.5\u001b[39;49m\u001b[43m,\u001b[49m\u001b[43m \u001b[49m\u001b[43mmethod\u001b[49m\u001b[38;5;241;43m=\u001b[39;49m\u001b[38;5;124;43m\"\u001b[39;49m\u001b[38;5;124;43mneurokit\u001b[39;49m\u001b[38;5;124;43m\"\u001b[39;49m\u001b[43m)\u001b[49m\n",
      "File \u001b[1;32m~\\eers\\git\\p5-stress-classifier\\lib\\NeuroKit\\neurokit2\\signal\\signal_fixpeaks.py:153\u001b[0m, in \u001b[0;36msignal_fixpeaks\u001b[1;34m(peaks, sampling_rate, iterative, show, interval_min, interval_max, relative_interval_min, relative_interval_max, robust, method, **kwargs)\u001b[0m\n\u001b[0;32m    148\u001b[0m     \u001b[38;5;28;01mreturn\u001b[39;00m _signal_fixpeaks_kubios(\n\u001b[0;32m    149\u001b[0m         peaks, sampling_rate\u001b[38;5;241m=\u001b[39msampling_rate, iterative\u001b[38;5;241m=\u001b[39miterative, show\u001b[38;5;241m=\u001b[39mshow, \u001b[38;5;241m*\u001b[39m\u001b[38;5;241m*\u001b[39mkwargs\n\u001b[0;32m    150\u001b[0m     )\n\u001b[0;32m    151\u001b[0m \u001b[38;5;28;01melse\u001b[39;00m:\n\u001b[0;32m    152\u001b[0m     \u001b[38;5;66;03m# Else method is NeuroKit\u001b[39;00m\n\u001b[1;32m--> 153\u001b[0m     \u001b[38;5;28;01mreturn\u001b[39;00m \u001b[43m_signal_fixpeaks_neurokit\u001b[49m\u001b[43m(\u001b[49m\n\u001b[0;32m    154\u001b[0m \u001b[43m        \u001b[49m\u001b[43mpeaks\u001b[49m\u001b[43m,\u001b[49m\n\u001b[0;32m    155\u001b[0m \u001b[43m        \u001b[49m\u001b[43msampling_rate\u001b[49m\u001b[38;5;241;43m=\u001b[39;49m\u001b[43msampling_rate\u001b[49m\u001b[43m,\u001b[49m\n\u001b[0;32m    156\u001b[0m \u001b[43m        \u001b[49m\u001b[43minterval_min\u001b[49m\u001b[38;5;241;43m=\u001b[39;49m\u001b[43minterval_min\u001b[49m\u001b[43m,\u001b[49m\n\u001b[0;32m    157\u001b[0m \u001b[43m        \u001b[49m\u001b[43minterval_max\u001b[49m\u001b[38;5;241;43m=\u001b[39;49m\u001b[43minterval_max\u001b[49m\u001b[43m,\u001b[49m\n\u001b[0;32m    158\u001b[0m \u001b[43m        \u001b[49m\u001b[43mrelative_interval_min\u001b[49m\u001b[38;5;241;43m=\u001b[39;49m\u001b[43mrelative_interval_min\u001b[49m\u001b[43m,\u001b[49m\n\u001b[0;32m    159\u001b[0m \u001b[43m        \u001b[49m\u001b[43mrelative_interval_max\u001b[49m\u001b[38;5;241;43m=\u001b[39;49m\u001b[43mrelative_interval_max\u001b[49m\u001b[43m,\u001b[49m\n\u001b[0;32m    160\u001b[0m \u001b[43m        \u001b[49m\u001b[43mrobust\u001b[49m\u001b[38;5;241;43m=\u001b[39;49m\u001b[43mrobust\u001b[49m\u001b[43m,\u001b[49m\n\u001b[0;32m    161\u001b[0m \u001b[43m    \u001b[49m\u001b[43m)\u001b[49m\n",
      "File \u001b[1;32m~\\eers\\git\\p5-stress-classifier\\lib\\NeuroKit\\neurokit2\\signal\\signal_fixpeaks.py:179\u001b[0m, in \u001b[0;36m_signal_fixpeaks_neurokit\u001b[1;34m(peaks, sampling_rate, interval_min, interval_max, relative_interval_min, relative_interval_max, robust)\u001b[0m\n\u001b[0;32m    176\u001b[0m \u001b[38;5;124;03m\"\"\"NeuroKit method.\"\"\"\u001b[39;00m\n\u001b[0;32m    178\u001b[0m peaks_clean \u001b[38;5;241m=\u001b[39m _remove_small(peaks, sampling_rate, interval_min, relative_interval_min, robust)\n\u001b[1;32m--> 179\u001b[0m peaks_clean \u001b[38;5;241m=\u001b[39m \u001b[43m_interpolate_big\u001b[49m\u001b[43m(\u001b[49m\n\u001b[0;32m    180\u001b[0m \u001b[43m    \u001b[49m\u001b[43mpeaks_clean\u001b[49m\u001b[43m,\u001b[49m\u001b[43m \u001b[49m\u001b[43msampling_rate\u001b[49m\u001b[43m,\u001b[49m\u001b[43m \u001b[49m\u001b[43minterval_max\u001b[49m\u001b[43m,\u001b[49m\u001b[43m \u001b[49m\u001b[43mrelative_interval_max\u001b[49m\u001b[43m,\u001b[49m\u001b[43m \u001b[49m\u001b[43mrobust\u001b[49m\n\u001b[0;32m    181\u001b[0m \u001b[43m\u001b[49m\u001b[43m)\u001b[49m\n\u001b[0;32m    183\u001b[0m \u001b[38;5;28;01mreturn\u001b[39;00m peaks_clean\n",
      "File \u001b[1;32m~\\eers\\git\\p5-stress-classifier\\lib\\NeuroKit\\neurokit2\\signal\\signal_fixpeaks.py:592\u001b[0m, in \u001b[0;36m_interpolate_big\u001b[1;34m(peaks, sampling_rate, interval_max, relative_interval_max, robust)\u001b[0m\n\u001b[0;32m    590\u001b[0m \u001b[38;5;28;01mif\u001b[39;00m interval_max \u001b[38;5;129;01mis\u001b[39;00m \u001b[38;5;129;01mnot\u001b[39;00m \u001b[38;5;28;01mNone\u001b[39;00m:\n\u001b[0;32m    591\u001b[0m     interval \u001b[38;5;241m=\u001b[39m signal_period(peaks, sampling_rate\u001b[38;5;241m=\u001b[39msampling_rate, desired_length\u001b[38;5;241m=\u001b[39m\u001b[38;5;28;01mNone\u001b[39;00m)\n\u001b[1;32m--> 592\u001b[0m     peaks, continue_loop \u001b[38;5;241m=\u001b[39m \u001b[43m_interpolate_missing\u001b[49m\u001b[43m(\u001b[49m\n\u001b[0;32m    593\u001b[0m \u001b[43m        \u001b[49m\u001b[43mpeaks\u001b[49m\u001b[43m,\u001b[49m\u001b[43m \u001b[49m\u001b[43minterval\u001b[49m\u001b[43m,\u001b[49m\u001b[43m \u001b[49m\u001b[43minterval_max\u001b[49m\u001b[43m,\u001b[49m\u001b[43m \u001b[49m\u001b[43msampling_rate\u001b[49m\n\u001b[0;32m    594\u001b[0m \u001b[43m    \u001b[49m\u001b[43m)\u001b[49m\n\u001b[0;32m    596\u001b[0m \u001b[38;5;28;01mif\u001b[39;00m relative_interval_max \u001b[38;5;129;01mis\u001b[39;00m \u001b[38;5;129;01mnot\u001b[39;00m \u001b[38;5;28;01mNone\u001b[39;00m:\n\u001b[0;32m    597\u001b[0m     interval \u001b[38;5;241m=\u001b[39m signal_period(peaks, sampling_rate\u001b[38;5;241m=\u001b[39msampling_rate, desired_length\u001b[38;5;241m=\u001b[39m\u001b[38;5;28;01mNone\u001b[39;00m)\n",
      "File \u001b[1;32m~\\eers\\git\\p5-stress-classifier\\lib\\NeuroKit\\neurokit2\\signal\\signal_fixpeaks.py:618\u001b[0m, in \u001b[0;36m_interpolate_missing\u001b[1;34m(peaks, interval, interval_max, sampling_rate)\u001b[0m\n\u001b[0;32m    614\u001b[0m interval \u001b[38;5;241m=\u001b[39m np\u001b[38;5;241m.\u001b[39minsert(interval, outliers_loc, np\u001b[38;5;241m.\u001b[39mnan)\n\u001b[0;32m    615\u001b[0m \u001b[38;5;66;03m#    new_peaks_location = np.where(np.isnan(interval))[0]\u001b[39;00m\n\u001b[0;32m    616\u001b[0m \n\u001b[0;32m    617\u001b[0m \u001b[38;5;66;03m# Interpolate values\u001b[39;00m\n\u001b[1;32m--> 618\u001b[0m interval \u001b[38;5;241m=\u001b[39m \u001b[43mpd\u001b[49m\u001b[38;5;241;43m.\u001b[39;49m\u001b[43mSeries\u001b[49m\u001b[43m(\u001b[49m\u001b[43minterval\u001b[49m\u001b[43m)\u001b[49m\u001b[38;5;241;43m.\u001b[39;49m\u001b[43minterpolate\u001b[49m\u001b[43m(\u001b[49m\u001b[43m)\u001b[49m\u001b[38;5;241m.\u001b[39mvalues\n\u001b[0;32m    619\u001b[0m peaks_corrected \u001b[38;5;241m=\u001b[39m _period_to_location(interval, sampling_rate, first_location\u001b[38;5;241m=\u001b[39mpeaks[\u001b[38;5;241m0\u001b[39m])\n\u001b[0;32m    620\u001b[0m peaks \u001b[38;5;241m=\u001b[39m np\u001b[38;5;241m.\u001b[39minsert(\n\u001b[0;32m    621\u001b[0m     peaks, outliers_loc, peaks_corrected[outliers_loc \u001b[38;5;241m+\u001b[39m np\u001b[38;5;241m.\u001b[39marange(\u001b[38;5;28mlen\u001b[39m(outliers_loc))]\n\u001b[0;32m    622\u001b[0m )\n",
      "File \u001b[1;32m~\\.conda\\envs\\stress-requirements\\lib\\site-packages\\pandas\\util\\_decorators.py:311\u001b[0m, in \u001b[0;36mdeprecate_nonkeyword_arguments.<locals>.decorate.<locals>.wrapper\u001b[1;34m(*args, **kwargs)\u001b[0m\n\u001b[0;32m    305\u001b[0m \u001b[38;5;28;01mif\u001b[39;00m \u001b[38;5;28mlen\u001b[39m(args) \u001b[38;5;241m>\u001b[39m num_allow_args:\n\u001b[0;32m    306\u001b[0m     warnings\u001b[38;5;241m.\u001b[39mwarn(\n\u001b[0;32m    307\u001b[0m         msg\u001b[38;5;241m.\u001b[39mformat(arguments\u001b[38;5;241m=\u001b[39marguments),\n\u001b[0;32m    308\u001b[0m         \u001b[38;5;167;01mFutureWarning\u001b[39;00m,\n\u001b[0;32m    309\u001b[0m         stacklevel\u001b[38;5;241m=\u001b[39mstacklevel,\n\u001b[0;32m    310\u001b[0m     )\n\u001b[1;32m--> 311\u001b[0m \u001b[38;5;28;01mreturn\u001b[39;00m func(\u001b[38;5;241m*\u001b[39margs, \u001b[38;5;241m*\u001b[39m\u001b[38;5;241m*\u001b[39mkwargs)\n",
      "File \u001b[1;32m~\\.conda\\envs\\stress-requirements\\lib\\site-packages\\pandas\\core\\series.py:5545\u001b[0m, in \u001b[0;36mSeries.interpolate\u001b[1;34m(self, method, axis, limit, inplace, limit_direction, limit_area, downcast, **kwargs)\u001b[0m\n\u001b[0;32m   5533\u001b[0m \u001b[38;5;129m@deprecate_nonkeyword_arguments\u001b[39m(version\u001b[38;5;241m=\u001b[39m\u001b[38;5;28;01mNone\u001b[39;00m, allowed_args\u001b[38;5;241m=\u001b[39m[\u001b[38;5;124m\"\u001b[39m\u001b[38;5;124mself\u001b[39m\u001b[38;5;124m\"\u001b[39m, \u001b[38;5;124m\"\u001b[39m\u001b[38;5;124mmethod\u001b[39m\u001b[38;5;124m\"\u001b[39m])\n\u001b[0;32m   5534\u001b[0m \u001b[38;5;28;01mdef\u001b[39;00m \u001b[38;5;21minterpolate\u001b[39m(\n\u001b[0;32m   5535\u001b[0m     \u001b[38;5;28mself\u001b[39m: Series,\n\u001b[1;32m   (...)\u001b[0m\n\u001b[0;32m   5543\u001b[0m     \u001b[38;5;241m*\u001b[39m\u001b[38;5;241m*\u001b[39mkwargs,\n\u001b[0;32m   5544\u001b[0m ) \u001b[38;5;241m-\u001b[39m\u001b[38;5;241m>\u001b[39m Series \u001b[38;5;241m|\u001b[39m \u001b[38;5;28;01mNone\u001b[39;00m:\n\u001b[1;32m-> 5545\u001b[0m     \u001b[38;5;28;01mreturn\u001b[39;00m \u001b[38;5;28msuper\u001b[39m()\u001b[38;5;241m.\u001b[39minterpolate(\n\u001b[0;32m   5546\u001b[0m         method,\n\u001b[0;32m   5547\u001b[0m         axis,\n\u001b[0;32m   5548\u001b[0m         limit,\n\u001b[0;32m   5549\u001b[0m         inplace,\n\u001b[0;32m   5550\u001b[0m         limit_direction,\n\u001b[0;32m   5551\u001b[0m         limit_area,\n\u001b[0;32m   5552\u001b[0m         downcast,\n\u001b[0;32m   5553\u001b[0m         \u001b[38;5;241m*\u001b[39m\u001b[38;5;241m*\u001b[39mkwargs,\n\u001b[0;32m   5554\u001b[0m     )\n",
      "File \u001b[1;32m~\\.conda\\envs\\stress-requirements\\lib\\site-packages\\pandas\\core\\generic.py:7011\u001b[0m, in \u001b[0;36mNDFrame.interpolate\u001b[1;34m(self, method, axis, limit, inplace, limit_direction, limit_area, downcast, **kwargs)\u001b[0m\n\u001b[0;32m   7008\u001b[0m \u001b[38;5;66;03m# create/use the index\u001b[39;00m\n\u001b[0;32m   7009\u001b[0m \u001b[38;5;28;01mif\u001b[39;00m method \u001b[38;5;241m==\u001b[39m \u001b[38;5;124m\"\u001b[39m\u001b[38;5;124mlinear\u001b[39m\u001b[38;5;124m\"\u001b[39m:\n\u001b[0;32m   7010\u001b[0m     \u001b[38;5;66;03m# prior default\u001b[39;00m\n\u001b[1;32m-> 7011\u001b[0m     index \u001b[38;5;241m=\u001b[39m Index(\u001b[43mnp\u001b[49m\u001b[38;5;241;43m.\u001b[39;49m\u001b[43marange\u001b[49m\u001b[43m(\u001b[49m\u001b[38;5;28;43mlen\u001b[39;49m\u001b[43m(\u001b[49m\u001b[43mobj\u001b[49m\u001b[38;5;241;43m.\u001b[39;49m\u001b[43mindex\u001b[49m\u001b[43m)\u001b[49m\u001b[43m)\u001b[49m)\n\u001b[0;32m   7012\u001b[0m \u001b[38;5;28;01melse\u001b[39;00m:\n\u001b[0;32m   7013\u001b[0m     index \u001b[38;5;241m=\u001b[39m obj\u001b[38;5;241m.\u001b[39mindex\n",
      "\u001b[1;31mKeyboardInterrupt\u001b[0m: "
     ]
    }
   ],
   "source": [
    "peaks_corrected = nk.signal_fixpeaks(peaks=peaks, interval_min=0.5, interval_max=1.5, method=\"neurokit\")"
   ]
  },
  {
   "cell_type": "code",
   "execution_count": null,
   "id": "7b83013f",
   "metadata": {},
   "outputs": [],
   "source": []
  }
 ],
 "metadata": {
  "kernelspec": {
   "display_name": "Python 3 (ipykernel)",
   "language": "python",
   "name": "python3"
  },
  "language_info": {
   "codemirror_mode": {
    "name": "ipython",
    "version": 3
   },
   "file_extension": ".py",
   "mimetype": "text/x-python",
   "name": "python",
   "nbconvert_exporter": "python",
   "pygments_lexer": "ipython3",
   "version": "3.9.12"
  }
 },
 "nbformat": 4,
 "nbformat_minor": 5
}
