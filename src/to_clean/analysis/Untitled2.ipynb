{
 "cells": [
  {
   "cell_type": "code",
   "execution_count": 1,
   "id": "7cd6a8b0",
   "metadata": {},
   "outputs": [
    {
     "data": {
      "text/plain": [
       "73"
      ]
     },
     "execution_count": 1,
     "metadata": {},
     "output_type": "execute_result"
    }
   ],
   "source": [
    "len(['HRV_MeanNN', 'HRV_SDNN', 'HRV_SDANN1', 'HRV_SDNNI1', 'HRV_RMSSD', 'HRV_SDSD', 'HRV_CVNN', 'HRV_CVSD', 'HRV_MedianNN', 'HRV_MadNN', 'HRV_MCVNN', 'HRV_IQRNN', 'HRV_Prc20NN', 'HRV_Prc80NN', 'HRV_pNN50', 'HRV_pNN20', 'HRV_MinNN', 'HRV_MaxNN', 'HRV_HTI', 'HRV_TINN', 'HRV_VLF', 'HRV_LF', 'HRV_HF', 'HRV_VHF', 'HRV_LFHF', 'HRV_LFn', 'HRV_HFn', 'HRV_LnHF', 'HRV_SD1', 'HRV_SD2', 'HRV_SD1SD2', 'HRV_S', 'HRV_CSI', 'HRV_CVI', 'HRV_CSI_Modified', 'HRV_PIP', 'HRV_IALS', 'HRV_PSS', 'HRV_PAS', 'HRV_GI', 'HRV_SI', 'HRV_AI', 'HRV_PI', 'HRV_C1d', 'HRV_C1a', 'HRV_SD1d', 'HRV_SD1a', 'HRV_C2d', 'HRV_C2a', 'HRV_SD2d', 'HRV_SD2a', 'HRV_Cd', 'HRV_Ca', 'HRV_SDNNd', 'HRV_SDNNa', 'HRV_DFA_alpha1', 'HRV_MFDFA_alpha1_Width', 'HRV_MFDFA_alpha1_Peak', 'HRV_MFDFA_alpha1_Mean', 'HRV_MFDFA_alpha1_Max', 'HRV_MFDFA_alpha1_Delta', 'HRV_MFDFA_alpha1_Asymmetry', 'HRV_ApEn', 'HRV_SampEn', 'HRV_ShanEn', 'HRV_FuzzyEn', 'HRV_MSEn', 'HRV_CMSEn', 'HRV_RCMSEn', 'HRV_CD', 'HRV_HFD', 'HRV_KFD', 'HRV_LZC'])"
   ]
  },
  {
   "cell_type": "code",
   "execution_count": 14,
   "id": "2632712c",
   "metadata": {},
   "outputs": [],
   "source": [
    "import os\n",
    "import sys\n",
    "# in order to load the submodule located in parent directory as a package\n",
    "orig_dir = os.getcwd()\n",
    "package_dir = os.path.join(os.path.dirname(os.getcwd()))\n",
    "sys.path.append(package_dir)\n",
    "import numpy as np\n",
    "import pandas as pd\n",
    "from stresspred import code_paths, peak_time_to_rri, stress_feat_extract\n",
    "for path in code_paths[\"neurokit2_paths\"]:\n",
    "    sys.path.append(str(path))\n",
    "    \n",
    "import neurokit2 as nk"
   ]
  },
  {
   "cell_type": "code",
   "execution_count": 15,
   "id": "924c83ce",
   "metadata": {},
   "outputs": [],
   "source": []
  },
  {
   "cell_type": "code",
   "execution_count": 16,
   "id": "8a2aba2c",
   "metadata": {},
   "outputs": [],
   "source": [
    "duration = 180\n"
   ]
  },
  {
   "cell_type": "code",
   "execution_count": 23,
   "id": "d613e25d",
   "metadata": {},
   "outputs": [],
   "source": [
    "feats = ['HRV_MeanNN', 'HRV_SDNN', 'HRV_SDANN1', 'HRV_SDNNI1', 'HRV_SDANN2', 'HRV_SDNNI2', 'HRV_SDANN5', 'HRV_SDNNI5', 'HRV_RMSSD', 'HRV_SDSD', 'HRV_CVNN', 'HRV_CVSD', 'HRV_MedianNN', 'HRV_MadNN', 'HRV_MCVNN', 'HRV_IQRNN', 'HRV_Prc20NN', 'HRV_Prc80NN', 'HRV_pNN50', 'HRV_pNN20', 'HRV_MinNN', 'HRV_MaxNN', 'HRV_HTI', 'HRV_TINN', 'HRV_SD1', 'HRV_SD2', 'HRV_SD1SD2', 'HRV_S', 'HRV_CSI', 'HRV_CVI', 'HRV_CSI_Modified', 'HRV_PIP', 'HRV_IALS', 'HRV_PSS', 'HRV_PAS', 'HRV_GI', 'HRV_SI', 'HRV_AI', 'HRV_PI', 'HRV_C1d', 'HRV_C1a', 'HRV_SD1d', 'HRV_SD1a', 'HRV_C2d', 'HRV_C2a', 'HRV_SD2d', 'HRV_SD2a', 'HRV_Cd', 'HRV_Ca', 'HRV_SDNNd', 'HRV_SDNNa', 'HRV_DFA_alpha1', 'HRV_MFDFA_alpha1_Width', 'HRV_MFDFA_alpha1_Peak', 'HRV_MFDFA_alpha1_Mean', 'HRV_MFDFA_alpha1_Max', 'HRV_MFDFA_alpha1_Delta', 'HRV_MFDFA_alpha1_Asymmetry', 'HRV_MFDFA_alpha1_Fluctuation', 'HRV_MFDFA_alpha1_Increment', 'HRV_DFA_alpha2', 'HRV_MFDFA_alpha2_Width', 'HRV_MFDFA_alpha2_Peak', 'HRV_MFDFA_alpha2_Mean', 'HRV_MFDFA_alpha2_Max', 'HRV_MFDFA_alpha2_Delta', 'HRV_MFDFA_alpha2_Asymmetry', 'HRV_MFDFA_alpha2_Fluctuation', 'HRV_MFDFA_alpha2_Increment', 'HRV_ApEn', 'HRV_SampEn', 'HRV_ShanEn', 'HRV_FuzzyEn', 'HRV_MSEn', 'HRV_CMSEn', 'HRV_RCMSEn', 'HRV_CD', 'HRV_HFD', 'HRV_KFD', 'HRV_LZC', 'MY_Rt_Median_Sq_SD', 'MY_Rt_IQMean_Sq_SD', 'MY_Rt_Prc25_Sq_SD', 'MY_MADM2', 'MY_MADM3', 'MY_MADM4', 'MY_MADM5', 'MY_MADM10', 'MY_MADM15', 'MY_MADM20', 'MY_MADM30', 'MY_MMAD3', 'MY_MMAD4', 'MY_MMAD5', 'MY_MMAD10', 'MY_MMAD15', 'MY_MMAD20', 'MY_MMAD30']"
   ]
  },
  {
   "cell_type": "code",
   "execution_count": 25,
   "id": "8e126bf6",
   "metadata": {},
   "outputs": [],
   "source": [
    "ecg = nk.ecg_simulate(duration=duration)\n",
    "signals, info = nk.ecg_process(ecg)\n",
    "ecg = nk.ecg_simulate(duration=duration)\n",
    "_, info = nk.ecg_process(ecg)\n",
    "rri, rri_time = peak_time_to_rri(info[\"ECG_R_Peaks\"]/info[\"sampling_rate\"])"
   ]
  },
  {
   "cell_type": "code",
   "execution_count": 28,
   "id": "e4d9e29f",
   "metadata": {},
   "outputs": [],
   "source": [
    "data_format=\"rri\"\n",
    "check_successive=True\n",
    "out_dfs = []\n",
    "\n",
    "out_dfs.append(nk.hrv_time(rri,\n",
    "                           rri_time=rri_time,\n",
    "                           data_format=data_format,\n",
    "                           check_successive=check_successive))\n",
    "try:\n",
    "    out_dfs.append(\n",
    "        nk.hrv_frequency(rri,\n",
    "                         rri_time=rri_time,\n",
    "                         data_format=data_format,\n",
    "                         check_successive=check_successive))\n",
    "except:\n",
    "    pass\n",
    "try:\n",
    "    out_dfs.append(\n",
    "        nk.hrv_nonlinear(rri,\n",
    "                         rri_time=rri_time,\n",
    "                         data_format=data_format,\n",
    "                         check_successive=check_successive))\n",
    "except:\n",
    "    pass\n",
    "out_nk = pd.concat(out_dfs, axis=1)"
   ]
  },
  {
   "cell_type": "code",
   "execution_count": 31,
   "id": "49c83bff",
   "metadata": {},
   "outputs": [
    {
     "ename": "TypeError",
     "evalue": "signal_interpolate() got an unexpected keyword argument 'check_successive'",
     "output_type": "error",
     "traceback": [
      "\u001b[1;31m---------------------------------------------------------------------------\u001b[0m",
      "\u001b[1;31mTypeError\u001b[0m                                 Traceback (most recent call last)",
      "Input \u001b[1;32mIn [31]\u001b[0m, in \u001b[0;36m<cell line: 1>\u001b[1;34m()\u001b[0m\n\u001b[1;32m----> 1\u001b[0m out_dfs\u001b[38;5;241m.\u001b[39mappend(\u001b[43mnk\u001b[49m\u001b[38;5;241;43m.\u001b[39;49m\u001b[43mhrv_frequency\u001b[49m\u001b[43m(\u001b[49m\u001b[43mrri\u001b[49m\u001b[43m,\u001b[49m\n\u001b[0;32m      2\u001b[0m \u001b[43m                 \u001b[49m\u001b[43mrri_time\u001b[49m\u001b[38;5;241;43m=\u001b[39;49m\u001b[43mrri_time\u001b[49m\u001b[43m,\u001b[49m\n\u001b[0;32m      3\u001b[0m \u001b[43m                 \u001b[49m\u001b[43mdata_format\u001b[49m\u001b[38;5;241;43m=\u001b[39;49m\u001b[43mdata_format\u001b[49m\u001b[43m,\u001b[49m\n\u001b[0;32m      4\u001b[0m \u001b[43m                 \u001b[49m\u001b[43mcheck_successive\u001b[49m\u001b[38;5;241;43m=\u001b[39;49m\u001b[43mcheck_successive\u001b[49m\u001b[43m)\u001b[49m)\n",
      "File \u001b[1;32m~\\eers\\git\\p5-stress-classifier\\lib\\NeuroKit\\neurokit2\\hrv\\hrv_frequency.py:189\u001b[0m, in \u001b[0;36mhrv_frequency\u001b[1;34m(data, rri_time, data_format, sampling_rate, ulf, vlf, lf, hf, vhf, psd_method, show, silent, normalize, order_criteria, **kwargs)\u001b[0m\n\u001b[0;32m    186\u001b[0m     sampling_rate \u001b[38;5;241m=\u001b[39m \u001b[38;5;28mmax\u001b[39m(sampling_rate, \u001b[38;5;241m10\u001b[39m)\n\u001b[0;32m    188\u001b[0m     x_new \u001b[38;5;241m=\u001b[39m np\u001b[38;5;241m.\u001b[39marange(np\u001b[38;5;241m.\u001b[39mfloor(sampling_rate\u001b[38;5;241m*\u001b[39mrri_time[\u001b[38;5;241m0\u001b[39m]), np\u001b[38;5;241m.\u001b[39mceil(sampling_rate\u001b[38;5;241m*\u001b[39mrri_time[\u001b[38;5;241m-\u001b[39m\u001b[38;5;241m1\u001b[39m]))\u001b[38;5;241m/\u001b[39msampling_rate\n\u001b[1;32m--> 189\u001b[0m     rri \u001b[38;5;241m=\u001b[39m signal_interpolate(\n\u001b[0;32m    190\u001b[0m         rri_time,\n\u001b[0;32m    191\u001b[0m         rri,\n\u001b[0;32m    192\u001b[0m         x_new\u001b[38;5;241m=\u001b[39mx_new,\n\u001b[0;32m    193\u001b[0m         \u001b[38;5;241m*\u001b[39m\u001b[38;5;241m*\u001b[39mkwargs\n\u001b[0;32m    194\u001b[0m     )\n\u001b[0;32m    196\u001b[0m frequency_band \u001b[38;5;241m=\u001b[39m [ulf, vlf, lf, hf, vhf]\n\u001b[0;32m    198\u001b[0m \u001b[38;5;66;03m# Find maximum frequency\u001b[39;00m\n",
      "\u001b[1;31mTypeError\u001b[0m: signal_interpolate() got an unexpected keyword argument 'check_successive'"
     ]
    }
   ],
   "source": [
    "out_dfs.append(nk.hrv_frequency(rri,\n",
    "                 rri_time=rri_time,\n",
    "                 data_format=data_format,\n",
    "                 check_successive=check_successive))"
   ]
  },
  {
   "cell_type": "code",
   "execution_count": null,
   "id": "d454fca3",
   "metadata": {},
   "outputs": [],
   "source": []
  }
 ],
 "metadata": {
  "kernelspec": {
   "display_name": "Python 3 (ipykernel)",
   "language": "python",
   "name": "python3"
  },
  "language_info": {
   "codemirror_mode": {
    "name": "ipython",
    "version": 3
   },
   "file_extension": ".py",
   "mimetype": "text/x-python",
   "name": "python",
   "nbconvert_exporter": "python",
   "pygments_lexer": "ipython3",
   "version": "3.9.12"
  }
 },
 "nbformat": 4,
 "nbformat_minor": 5
}
