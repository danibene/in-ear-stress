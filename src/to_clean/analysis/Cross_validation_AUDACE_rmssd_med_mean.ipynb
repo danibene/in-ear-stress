{
 "cells": [
  {
   "cell_type": "code",
   "execution_count": 1,
   "id": "6b6fa750",
   "metadata": {},
   "outputs": [],
   "source": [
    "import os\n",
    "import sys"
   ]
  },
  {
   "cell_type": "code",
   "execution_count": 2,
   "id": "19f6278d",
   "metadata": {},
   "outputs": [],
   "source": [
    "# in order to load the submodule located in parent directory as a package\n",
    "orig_dir = os.getcwd()\n",
    "package_dir = os.path.join(os.path.dirname(os.getcwd()))\n",
    "sys.path.append(package_dir)"
   ]
  },
  {
   "cell_type": "code",
   "execution_count": 3,
   "id": "b6359379",
   "metadata": {},
   "outputs": [
    {
     "data": {
      "text/plain": [
       "'C:\\\\Users\\\\dbenesch\\\\eers\\\\git\\\\p5-stress-classifier\\\\src'"
      ]
     },
     "execution_count": 3,
     "metadata": {},
     "output_type": "execute_result"
    }
   ],
   "source": [
    "package_dir"
   ]
  },
  {
   "cell_type": "code",
   "execution_count": 4,
   "id": "93fa61d9",
   "metadata": {},
   "outputs": [
    {
     "name": "stderr",
     "output_type": "stream",
     "text": [
      "C:\\Users\\dbenesch\\.conda\\envs\\stress-requirements\\lib\\site-packages\\paramiko\\transport.py:219: CryptographyDeprecationWarning: Blowfish has been deprecated\n",
      "  \"class\": algorithms.Blowfish,\n"
     ]
    }
   ],
   "source": [
    "import numpy as np\n",
    "from sklearn.model_selection import cross_validate\n",
    "from stresspred import AudaceDataLoader, get_cv_iterator, make_prediction_pipeline"
   ]
  },
  {
   "cell_type": "code",
   "execution_count": 5,
   "id": "895433fd",
   "metadata": {},
   "outputs": [],
   "source": [
    "X_data, y_data, sub_data, task_data = AudaceDataLoader().get_split_pred_df(selected_tasks=[\"MENTAL\", \"CPT\"])\n",
    "outer_cv, _ = get_cv_iterator(sub_data)"
   ]
  },
  {
   "cell_type": "code",
   "execution_count": 20,
   "id": "de689800",
   "metadata": {},
   "outputs": [
    {
     "name": "stdout",
     "output_type": "stream",
     "text": [
      "Selected features: \n",
      "['HRV_MedianNN', 'HRV_MinNN']\n",
      "Accuracy: 76.58333333333333%\n",
      "Selected features: \n",
      "['HRV_MeanNN', 'HRV_RMSSD']\n",
      "Accuracy: 78.75%\n",
      "Selected features: \n",
      "['HRV_MeanNN', 'MY_Rt_Median_Sq_SD']\n",
      "Accuracy: 76.5%\n",
      "Selected features: \n",
      "['HRV_RMSSD']\n",
      "Accuracy: 55.58333333333334%\n",
      "Selected features: \n",
      "['MY_Rt_Median_Sq_SD']\n",
      "Accuracy: 60.916666666666664%\n",
      "Selected features: \n",
      "['MY_Rt_Prc25_Sq_SD']\n",
      "Accuracy: 62.16666666666666%\n",
      "Selected features: \n",
      "['HRV_MeanNN', 'MY_Rt_Prc25_Sq_SD']\n",
      "Accuracy: 75.16666666666666%\n",
      "Selected features: \n",
      "['HRV_MedianNN', 'MY_Rt_Prc25_Sq_SD']\n",
      "Accuracy: 75.41666666666667%\n",
      "Selected features: \n",
      "['HRV_MedianNN']\n",
      "Accuracy: 76.00000000000001%\n",
      "Selected features: \n",
      "['HRV_MeanNN', 'HRV_SDNN', 'HRV_SDANN1', 'HRV_SDNNI1', 'HRV_RMSSD', 'HRV_SDSD', 'HRV_CVNN', 'HRV_CVSD', 'HRV_MedianNN', 'HRV_MadNN', 'HRV_MCVNN', 'HRV_IQRNN', 'HRV_Prc20NN', 'HRV_Prc80NN', 'HRV_pNN50', 'HRV_pNN20', 'HRV_MinNN', 'HRV_MaxNN', 'HRV_HTI', 'HRV_TINN', 'HRV_VLF', 'HRV_LF', 'HRV_HF', 'HRV_VHF', 'HRV_LFHF', 'HRV_LFn', 'HRV_HFn', 'HRV_LnHF', 'HRV_SD1', 'HRV_SD2', 'HRV_SD1SD2', 'HRV_S', 'HRV_CSI', 'HRV_CVI', 'HRV_CSI_Modified', 'HRV_PIP', 'HRV_IALS', 'HRV_PSS', 'HRV_PAS', 'HRV_GI', 'HRV_SI', 'HRV_AI', 'HRV_PI', 'HRV_C1d', 'HRV_C1a', 'HRV_SD1d', 'HRV_SD1a', 'HRV_C2d', 'HRV_C2a', 'HRV_SD2d', 'HRV_SD2a', 'HRV_Cd', 'HRV_Ca', 'HRV_SDNNd', 'HRV_SDNNa', 'HRV_DFA_alpha1', 'HRV_MFDFA_alpha1_Width', 'HRV_MFDFA_alpha1_Peak', 'HRV_MFDFA_alpha1_Mean', 'HRV_MFDFA_alpha1_Max', 'HRV_MFDFA_alpha1_Delta', 'HRV_MFDFA_alpha1_Asymmetry', 'HRV_DFA_alpha2', 'HRV_MFDFA_alpha2_Width', 'HRV_MFDFA_alpha2_Peak', 'HRV_MFDFA_alpha2_Mean', 'HRV_MFDFA_alpha2_Max', 'HRV_MFDFA_alpha2_Delta', 'HRV_MFDFA_alpha2_Asymmetry', 'HRV_MFDFA_alpha2_Fluctuation', 'HRV_MFDFA_alpha2_Increment', 'HRV_ApEn', 'HRV_SampEn', 'HRV_ShanEn', 'HRV_FuzzyEn', 'HRV_MSEn', 'HRV_CMSEn', 'HRV_RCMSEn', 'HRV_CD', 'HRV_HFD', 'HRV_KFD', 'HRV_LZC']\n",
      "Accuracy: 78.16666666666667%\n"
     ]
    }
   ],
   "source": [
    "nk_feats = [col for col in X_data.columns if \"HRV_\" in col]\n",
    "\n",
    "selected_features_list = [\n",
    "    [\"HRV_MedianNN\", \"HRV_MinNN\"],\n",
    "    [\"HRV_MeanNN\", \"HRV_RMSSD\"],\n",
    "    [\"HRV_MeanNN\", \"MY_Rt_Median_Sq_SD\"],\n",
    "    [\"HRV_RMSSD\"],\n",
    "    [\"MY_Rt_Median_Sq_SD\"],\n",
    "    [\"MY_Rt_Prc25_Sq_SD\"],\n",
    "    [\"HRV_MeanNN\", \"MY_Rt_Prc25_Sq_SD\"],\n",
    "    [\"HRV_MedianNN\", \"MY_Rt_Prc25_Sq_SD\"],\n",
    "    [\"HRV_MedianNN\"],\n",
    "    nk_feats\n",
    "]\n",
    "for selected_features in selected_features_list:\n",
    "    X = X_data.loc[:,selected_features]\n",
    "    y = y_data\n",
    "    pipe_clf = make_prediction_pipeline()\n",
    "    cv_results = cross_validate(pipe_clf, X, y, cv=outer_cv)\n",
    "    print(\"Selected features: \")\n",
    "    print(selected_features)\n",
    "    print(\"Accuracy: \" + str(np.mean(cv_results[\"test_score\"])*100) + \"%\")"
   ]
  },
  {
   "cell_type": "code",
   "execution_count": null,
   "id": "e7d823ad",
   "metadata": {},
   "outputs": [],
   "source": []
  }
 ],
 "metadata": {
  "kernelspec": {
   "display_name": "Python 3 (ipykernel)",
   "language": "python",
   "name": "python3"
  },
  "language_info": {
   "codemirror_mode": {
    "name": "ipython",
    "version": 3
   },
   "file_extension": ".py",
   "mimetype": "text/x-python",
   "name": "python",
   "nbconvert_exporter": "python",
   "pygments_lexer": "ipython3",
   "version": "3.9.12"
  }
 },
 "nbformat": 4,
 "nbformat_minor": 5
}
