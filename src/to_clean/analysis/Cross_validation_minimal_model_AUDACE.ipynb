{
 "cells": [
  {
   "cell_type": "code",
   "execution_count": 1,
   "id": "6b6fa750",
   "metadata": {},
   "outputs": [],
   "source": [
    "import os\n",
    "import sys"
   ]
  },
  {
   "cell_type": "code",
   "execution_count": 2,
   "id": "19f6278d",
   "metadata": {},
   "outputs": [],
   "source": [
    "# in order to load the submodule located in parent directory as a package\n",
    "orig_dir = os.getcwd()\n",
    "package_dir = os.path.join(os.path.dirname(os.getcwd()))\n",
    "sys.path.append(package_dir)"
   ]
  },
  {
   "cell_type": "code",
   "execution_count": 3,
   "id": "b6359379",
   "metadata": {},
   "outputs": [
    {
     "data": {
      "text/plain": [
       "'C:\\\\Users\\\\dbenesch\\\\eers\\\\git\\\\p5-stress-classifier\\\\src'"
      ]
     },
     "execution_count": 3,
     "metadata": {},
     "output_type": "execute_result"
    }
   ],
   "source": [
    "package_dir"
   ]
  },
  {
   "cell_type": "code",
   "execution_count": 4,
   "id": "93fa61d9",
   "metadata": {},
   "outputs": [
    {
     "name": "stderr",
     "output_type": "stream",
     "text": [
      "C:\\Users\\dbenesch\\.conda\\envs\\stress-requirements\\lib\\site-packages\\paramiko\\transport.py:219: CryptographyDeprecationWarning: Blowfish has been deprecated\n",
      "  \"class\": algorithms.Blowfish,\n"
     ]
    }
   ],
   "source": [
    "import numpy as np\n",
    "from sklearn.model_selection import cross_validate\n",
    "from stresspred import AudaceDataLoader, get_cv_iterator, make_prediction_pipeline"
   ]
  },
  {
   "cell_type": "code",
   "execution_count": 5,
   "id": "895433fd",
   "metadata": {},
   "outputs": [],
   "source": [
    "X_data, y_data, sub_data, task_data = AudaceDataLoader().get_split_pred_df(selected_tasks=[\"MENTAL\", \"CPT\"])\n",
    "outer_cv, _ = get_cv_iterator(sub_data)"
   ]
  },
  {
   "cell_type": "code",
   "execution_count": 6,
   "id": "de689800",
   "metadata": {},
   "outputs": [],
   "source": [
    "selected_features = [\"HRV_MeanNN\", \"HRV_RMSSD\"]\n",
    "X = X_data.loc[:,selected_features]\n",
    "y = y_data\n",
    "pipe_clf = make_prediction_pipeline()"
   ]
  },
  {
   "cell_type": "code",
   "execution_count": 7,
   "id": "f8ae73c8",
   "metadata": {},
   "outputs": [
    {
     "name": "stdout",
     "output_type": "stream",
     "text": [
      "0.7875\n"
     ]
    }
   ],
   "source": [
    "cv_results = cross_validate(pipe_clf, X, y, cv=outer_cv)\n",
    "print(np.mean(cv_results[\"test_score\"]))"
   ]
  }
 ],
 "metadata": {
  "kernelspec": {
   "display_name": "Python 3 (ipykernel)",
   "language": "python",
   "name": "python3"
  },
  "language_info": {
   "codemirror_mode": {
    "name": "ipython",
    "version": 3
   },
   "file_extension": ".py",
   "mimetype": "text/x-python",
   "name": "python",
   "nbconvert_exporter": "python",
   "pygments_lexer": "ipython3",
   "version": "3.9.12"
  }
 },
 "nbformat": 4,
 "nbformat_minor": 5
}
