{
 "cells": [
  {
   "cell_type": "code",
   "execution_count": 2,
   "id": "6bd3c080",
   "metadata": {},
   "outputs": [],
   "source": [
    "# -*- coding: utf-8 -*-\n",
    "import numpy as np\n",
    "import scipy.interpolate\n",
    "\n",
    "\n",
    "def signal_interpolate(\n",
    "    x_values=None, y_values=None, x_new=None, method=\"quadratic\", fill_value=None\n",
    "):\n",
    "    \"\"\"**Interpolate a signal**\n",
    "    Interpolate a signal using different methods.\n",
    "    Parameters\n",
    "    ----------\n",
    "    x_values : Union[list, np.array, pd.Series]\n",
    "        The samples corresponding to the values to be interpolated.\n",
    "    y_values : Union[list, np.array, pd.Series]\n",
    "        The values to be interpolated.\n",
    "    x_new : Union[list, np.array, pd.Series] or int\n",
    "        The samples at which to interpolate the y_values. Samples before the first value in x_values\n",
    "        or after the last value in x_values will be extrapolated. If an integer is passed, nex_x\n",
    "        will be considered as the desired length of the interpolated signal between the first and\n",
    "        the last values of x_values. No extrapolation will be done for values before or after the\n",
    "        first and the last values of x_values.\n",
    "    method : str\n",
    "        Method of interpolation. Can be ``\"linear\"``, ``\"nearest\"``, ``\"zero\"``, ``\"slinear\"``,\n",
    "        ``\"quadratic\"``, ``\"cubic\"``, ``\"previous\"``, ``\"next\"`` or ``\"monotone_cubic\"``. The\n",
    "        methods ``\"zero\"``, ``\"slinear\"``,``\"quadratic\"`` and ``\"cubic\"`` refer to a spline\n",
    "        interpolation of zeroth, first, second or third order; whereas ``\"previous\"`` and\n",
    "        ``\"next\"`` simply return the previous or next value of the point. An integer specifying the\n",
    "        order of the spline interpolator to use.\n",
    "        See `here <https://docs.scipy.org/doc/scipy/reference/generated/scipy.interpolate.\n",
    "        PchipInterpolator.html>`_ for details on the ``\"monotone_cubic\"`` method.\n",
    "    fill_value : float or tuple or str\n",
    "        If a ndarray (or float), this value will be used to fill in for\n",
    "        requested points outside of the data range.\n",
    "        If a two-element tuple, then the first element is used as a fill value\n",
    "        for x_new < x[0] and the second element is used for x_new > x[-1].\n",
    "        If \"extrapolate\", then points outside the data range will be extrapolated.\n",
    "        If not provided, then the default is ([y_values[0]], [y_values[-1]]).\n",
    "    Returns\n",
    "    -------\n",
    "    array\n",
    "        Vector of interpolated samples.\n",
    "    Examples\n",
    "    --------\n",
    "    .. ipython:: python\n",
    "      import numpy as np\n",
    "      import neurokit2 as nk\n",
    "      import matplotlib.pyplot as plt\n",
    "      # Generate Simulated Signal\n",
    "      signal = nk.signal_simulate(duration=2, sampling_rate=10)\n",
    "      # We want to interpolate to 2000 samples\n",
    "      x_values = np.linspace(0, 2000, num=len(signal), endpoint=False)\n",
    "      x_new = np.linspace(0, 2000, num=2000, endpoint=False)\n",
    "      # Visualize all interpolation methods\n",
    "      @savefig p_signal_interpolate1.png scale=100%\n",
    "      nk.signal_plot([\n",
    "          nk.signal_interpolate(x_values, signal, x_new=x_new, method=\"zero\"),\n",
    "          nk.signal_interpolate(x_values, signal, x_new=x_new, method=\"linear\"),\n",
    "          nk.signal_interpolate(x_values, signal, x_new=x_new, method=\"quadratic\"),\n",
    "          nk.signal_interpolate(x_values, signal, x_new=x_new, method=\"cubic\"),\n",
    "          nk.signal_interpolate(x_values, signal, x_new=x_new, method=\"previous\"),\n",
    "          nk.signal_interpolate(x_values, signal, x_new=x_new, method=\"next\"),\n",
    "          nk.signal_interpolate(x_values, signal, x_new=x_new, method=\"monotone_cubic\")\n",
    "      ], labels = [\"Zero\", \"Linear\", \"Quadratic\", \"Cubic\", \"Previous\", \"Next\", \"Monotone Cubic\"])\n",
    "      # Add original data points\n",
    "      plt.scatter(x_values, signal, label=\"original datapoints\", zorder=3)\n",
    "      @suppress\n",
    "      plt.close()\n",
    "    \"\"\"\n",
    "    # Sanity checks\n",
    "    if x_values is None and y_values is None:\n",
    "        raise ValueError(\n",
    "            \"NeuroKit error: signal_interpolate(): x_values or y_values must be provided.\"\n",
    "        )\n",
    "    elif x_values is None or y_values is None:\n",
    "        # for interpolating NaNs\n",
    "        if y_values is None:\n",
    "            y_values = x_values\n",
    "        x_values = np.arange(0, len(y_values))\n",
    "        if x_new is None:\n",
    "            x_new = x_values\n",
    "        y_finite = np.where(np.invert(np.isnan(y_values)))[0]\n",
    "        x_values = x_values[y_finite]\n",
    "        y_values = y_values[y_finite]\n",
    "    if len(x_values) != len(y_values):\n",
    "        raise ValueError(\"x_values and y_values must be of the same length.\")\n",
    "\n",
    "    if isinstance(x_new, int):\n",
    "        if len(x_values) == x_new:\n",
    "            return y_values\n",
    "    else:\n",
    "        if len(x_values) == len(x_new):\n",
    "            return y_values\n",
    "    if method == \"monotone_cubic\":\n",
    "        interpolation_function = scipy.interpolate.PchipInterpolator(\n",
    "            x_values, y_values, extrapolate=True\n",
    "        )\n",
    "    else:\n",
    "        if fill_value is None:\n",
    "            fill_value = ([y_values[0]], [y_values[-1]])\n",
    "        interpolation_function = scipy.interpolate.interp1d(\n",
    "            x_values,\n",
    "            y_values,\n",
    "            kind=method,\n",
    "            bounds_error=False,\n",
    "            fill_value=fill_value,\n",
    "        )\n",
    "    if isinstance(x_new, int):\n",
    "        x_new = np.linspace(x_values[0], x_values[-1], x_new)\n",
    "    interpolated = interpolation_function(x_new)\n",
    "\n",
    "    if method == \"monotone_cubic\" and fill_value != \"extrapolate\":\n",
    "        \n",
    "        first_index = np.argmin(np.abs(x_new - x_values[0]))\n",
    "        second_index = np.argmin(np.abs(x_new - x_values[-1]))\n",
    "        \n",
    "        if fill_value is None:\n",
    "            # Swap out the cubic extrapolation of out-of-bounds segments generated by\n",
    "            # scipy.interpolate.PchipInterpolator for constant extrapolation akin to the behavior of\n",
    "            # scipy.interpolate.interp1d with fill_value=([y_values[0]], [y_values[-1]].\n",
    "            interpolated[: int(x_values[0])] = interpolated[int(x_values[0])]\n",
    "            interpolated[int(x_values[-1]) :] = interpolated[int(x_values[-1])]\n",
    "        else:\n",
    "            interpolated[: int(x_values[0])] = fill_value[int(x_new)]\n",
    "            \n",
    "    return interpolated\n"
   ]
  },
  {
   "cell_type": "code",
   "execution_count": 3,
   "id": "f5d83e5c",
   "metadata": {},
   "outputs": [],
   "source": [
    "# -*- coding: utf-8 -*-\n",
    "import numpy as np\n",
    "import scipy.interpolate\n",
    "\n",
    "\n",
    "def signal_interpolate(\n",
    "    x_values=None, y_values=None, x_new=None, method=\"quadratic\", fill_value=None\n",
    "):\n",
    "    \"\"\"**Interpolate a signal**\n",
    "    Interpolate a signal using different methods.\n",
    "    Parameters\n",
    "    ----------\n",
    "    x_values : Union[list, np.array, pd.Series]\n",
    "        The samples corresponding to the values to be interpolated.\n",
    "    y_values : Union[list, np.array, pd.Series]\n",
    "        The values to be interpolated.\n",
    "    x_new : Union[list, np.array, pd.Series] or int\n",
    "        The samples at which to interpolate the y_values. Samples before the first value in x_values\n",
    "        or after the last value in x_values will be extrapolated. If an integer is passed, nex_x\n",
    "        will be considered as the desired length of the interpolated signal between the first and\n",
    "        the last values of x_values. No extrapolation will be done for values before or after the\n",
    "        first and the last values of x_values.\n",
    "    method : str\n",
    "        Method of interpolation. Can be ``\"linear\"``, ``\"nearest\"``, ``\"zero\"``, ``\"slinear\"``,\n",
    "        ``\"quadratic\"``, ``\"cubic\"``, ``\"previous\"``, ``\"next\"`` or ``\"monotone_cubic\"``. The\n",
    "        methods ``\"zero\"``, ``\"slinear\"``,``\"quadratic\"`` and ``\"cubic\"`` refer to a spline\n",
    "        interpolation of zeroth, first, second or third order; whereas ``\"previous\"`` and\n",
    "        ``\"next\"`` simply return the previous or next value of the point. An integer specifying the\n",
    "        order of the spline interpolator to use.\n",
    "        See `here <https://docs.scipy.org/doc/scipy/reference/generated/scipy.interpolate.\n",
    "        PchipInterpolator.html>`_ for details on the ``\"monotone_cubic\"`` method.\n",
    "    fill_value : float or tuple or str\n",
    "        If a ndarray (or float), this value will be used to fill in for\n",
    "        requested points outside of the data range.\n",
    "        If a two-element tuple, then the first element is used as a fill value\n",
    "        for x_new < x[0] and the second element is used for x_new > x[-1].\n",
    "        If \"extrapolate\", then points outside the data range will be extrapolated.\n",
    "        If not provided, then the default is ([y_values[0]], [y_values[-1]]).\n",
    "    Returns\n",
    "    -------\n",
    "    array\n",
    "        Vector of interpolated samples.\n",
    "    Examples\n",
    "    --------\n",
    "    .. ipython:: python\n",
    "      import numpy as np\n",
    "      import neurokit2 as nk\n",
    "      import matplotlib.pyplot as plt\n",
    "      # Generate Simulated Signal\n",
    "      signal = nk.signal_simulate(duration=2, sampling_rate=10)\n",
    "      # We want to interpolate to 2000 samples\n",
    "      x_values = np.linspace(0, 2000, num=len(signal), endpoint=False)\n",
    "      x_new = np.linspace(0, 2000, num=2000, endpoint=False)\n",
    "      # Visualize all interpolation methods\n",
    "      @savefig p_signal_interpolate1.png scale=100%\n",
    "      nk.signal_plot([\n",
    "          nk.signal_interpolate(x_values, signal, x_new=x_new, method=\"zero\"),\n",
    "          nk.signal_interpolate(x_values, signal, x_new=x_new, method=\"linear\"),\n",
    "          nk.signal_interpolate(x_values, signal, x_new=x_new, method=\"quadratic\"),\n",
    "          nk.signal_interpolate(x_values, signal, x_new=x_new, method=\"cubic\"),\n",
    "          nk.signal_interpolate(x_values, signal, x_new=x_new, method=\"previous\"),\n",
    "          nk.signal_interpolate(x_values, signal, x_new=x_new, method=\"next\"),\n",
    "          nk.signal_interpolate(x_values, signal, x_new=x_new, method=\"monotone_cubic\")\n",
    "      ], labels = [\"Zero\", \"Linear\", \"Quadratic\", \"Cubic\", \"Previous\", \"Next\", \"Monotone Cubic\"])\n",
    "      # Add original data points\n",
    "      plt.scatter(x_values, signal, label=\"original datapoints\", zorder=3)\n",
    "      @suppress\n",
    "      plt.close()\n",
    "    \"\"\"\n",
    "    # Sanity checks\n",
    "    if x_values is None and y_values is None:\n",
    "        raise ValueError(\n",
    "            \"NeuroKit error: signal_interpolate(): x_values or y_values must be provided.\"\n",
    "        )\n",
    "    elif x_values is None or y_values is None:\n",
    "        # for interpolating NaNs\n",
    "        if y_values is None:\n",
    "            y_values = x_values\n",
    "        x_values = np.arange(0, len(y_values))\n",
    "        if x_new is None:\n",
    "            x_new = x_values\n",
    "        y_finite = np.where(np.invert(np.isnan(y_values)))[0]\n",
    "        x_values = x_values[y_finite]\n",
    "        y_values = y_values[y_finite]\n",
    "    if len(x_values) != len(y_values):\n",
    "        raise ValueError(\"x_values and y_values must be of the same length.\")\n",
    "\n",
    "    if isinstance(x_new, int):\n",
    "        if len(x_values) == x_new:\n",
    "            return y_values\n",
    "    else:\n",
    "        if len(x_values) == len(x_new):\n",
    "            return y_values\n",
    "    if method == \"monotone_cubic\":\n",
    "        interpolation_function = scipy.interpolate.PchipInterpolator(\n",
    "            x_values, y_values, extrapolate=True\n",
    "        )\n",
    "    else:\n",
    "        if fill_value is None:\n",
    "            fill_value = ([y_values[0]], [y_values[-1]])\n",
    "        interpolation_function = scipy.interpolate.interp1d(\n",
    "            x_values,\n",
    "            y_values,\n",
    "            kind=method,\n",
    "            bounds_error=False,\n",
    "            fill_value=fill_value,\n",
    "        )\n",
    "    if isinstance(x_new, int):\n",
    "        x_new = np.linspace(x_values[0], x_values[-1], x_new)\n",
    "    interpolated = interpolation_function(x_new)\n",
    "\n",
    "    if method == \"monotone_cubic\" and fill_value != \"extrapolate\":\n",
    "        # Swap out the cubic extrapolation of out-of-bounds segments generated by\n",
    "        # scipy.interpolate.PchipInterpolator for constant extrapolation akin to the behavior of\n",
    "        # scipy.interpolate.interp1d with fill_value=([y_values[0]], [y_values[-1]].\n",
    "        interpolated[: int(x_values[0])] = interpolated[int(x_values[0])]\n",
    "        interpolated[int(x_values[-1]) :] = interpolated[int(x_values[-1])]\n",
    "    return interpolated\n"
   ]
  },
  {
   "cell_type": "code",
   "execution_count": 4,
   "id": "6feb261a",
   "metadata": {},
   "outputs": [],
   "source": [
    "# -*- coding: utf-8 -*-\n",
    "import numpy as np\n",
    "import scipy.interpolate\n",
    "\n",
    "\n",
    "def signal_interpolate(\n",
    "    x_values=None, y_values=None, x_new=None, method=\"quadratic\", fill_value=None\n",
    "):\n",
    "    \"\"\"**Interpolate a signal**\n",
    "    Interpolate a signal using different methods.\n",
    "    Parameters\n",
    "    ----------\n",
    "    x_values : Union[list, np.array, pd.Series]\n",
    "        The samples corresponding to the values to be interpolated.\n",
    "    y_values : Union[list, np.array, pd.Series]\n",
    "        The values to be interpolated.\n",
    "    x_new : Union[list, np.array, pd.Series] or int\n",
    "        The samples at which to interpolate the y_values. Samples before the first value in x_values\n",
    "        or after the last value in x_values will be extrapolated. If an integer is passed, nex_x\n",
    "        will be considered as the desired length of the interpolated signal between the first and\n",
    "        the last values of x_values. No extrapolation will be done for values before or after the\n",
    "        first and the last values of x_values.\n",
    "    method : str\n",
    "        Method of interpolation. Can be ``\"linear\"``, ``\"nearest\"``, ``\"zero\"``, ``\"slinear\"``,\n",
    "        ``\"quadratic\"``, ``\"cubic\"``, ``\"previous\"``, ``\"next\"`` or ``\"monotone_cubic\"``. The\n",
    "        methods ``\"zero\"``, ``\"slinear\"``,``\"quadratic\"`` and ``\"cubic\"`` refer to a spline\n",
    "        interpolation of zeroth, first, second or third order; whereas ``\"previous\"`` and\n",
    "        ``\"next\"`` simply return the previous or next value of the point. An integer specifying the\n",
    "        order of the spline interpolator to use.\n",
    "        See `here <https://docs.scipy.org/doc/scipy/reference/generated/scipy.interpolate.\n",
    "        PchipInterpolator.html>`_ for details on the ``\"monotone_cubic\"`` method.\n",
    "    fill_value : float or tuple or str\n",
    "        If a ndarray (or float), this value will be used to fill in for\n",
    "        requested points outside of the data range.\n",
    "        If a two-element tuple, then the first element is used as a fill value\n",
    "        for x_new < x[0] and the second element is used for x_new > x[-1].\n",
    "        If \"extrapolate\", then points outside the data range will be extrapolated.\n",
    "        If not provided, then the default is ([y_values[0]], [y_values[-1]]).\n",
    "    Returns\n",
    "    -------\n",
    "    array\n",
    "        Vector of interpolated samples.\n",
    "    Examples\n",
    "    --------\n",
    "    .. ipython:: python\n",
    "      import numpy as np\n",
    "      import neurokit2 as nk\n",
    "      import matplotlib.pyplot as plt\n",
    "      # Generate Simulated Signal\n",
    "      signal = nk.signal_simulate(duration=2, sampling_rate=10)\n",
    "      # We want to interpolate to 2000 samples\n",
    "      x_values = np.linspace(0, 2000, num=len(signal), endpoint=False)\n",
    "      x_new = np.linspace(0, 2000, num=2000, endpoint=False)\n",
    "      # Visualize all interpolation methods\n",
    "      @savefig p_signal_interpolate1.png scale=100%\n",
    "      nk.signal_plot([\n",
    "          nk.signal_interpolate(x_values, signal, x_new=x_new, method=\"zero\"),\n",
    "          nk.signal_interpolate(x_values, signal, x_new=x_new, method=\"linear\"),\n",
    "          nk.signal_interpolate(x_values, signal, x_new=x_new, method=\"quadratic\"),\n",
    "          nk.signal_interpolate(x_values, signal, x_new=x_new, method=\"cubic\"),\n",
    "          nk.signal_interpolate(x_values, signal, x_new=x_new, method=\"previous\"),\n",
    "          nk.signal_interpolate(x_values, signal, x_new=x_new, method=\"next\"),\n",
    "          nk.signal_interpolate(x_values, signal, x_new=x_new, method=\"monotone_cubic\")\n",
    "      ], labels = [\"Zero\", \"Linear\", \"Quadratic\", \"Cubic\", \"Previous\", \"Next\", \"Monotone Cubic\"])\n",
    "      # Add original data points\n",
    "      plt.scatter(x_values, signal, label=\"original datapoints\", zorder=3)\n",
    "      @suppress\n",
    "      plt.close()\n",
    "    \"\"\"\n",
    "    # Sanity checks\n",
    "    if x_values is None and y_values is None:\n",
    "        raise ValueError(\n",
    "            \"NeuroKit error: signal_interpolate(): x_values or y_values must be provided.\"\n",
    "        )\n",
    "    elif x_values is None or y_values is None:\n",
    "        # for interpolating NaNs\n",
    "        if y_values is None:\n",
    "            y_values = x_values\n",
    "        x_values = np.arange(0, len(y_values))\n",
    "        if x_new is None:\n",
    "            x_new = x_values\n",
    "        y_finite = np.where(np.invert(np.isnan(y_values)))[0]\n",
    "        x_values = x_values[y_finite]\n",
    "        y_values = y_values[y_finite]\n",
    "    if len(x_values) != len(y_values):\n",
    "        raise ValueError(\"x_values and y_values must be of the same length.\")\n",
    "\n",
    "    if isinstance(x_new, int):\n",
    "        if len(x_values) == x_new:\n",
    "            return y_values\n",
    "    else:\n",
    "        if len(x_values) == len(x_new):\n",
    "            return y_values\n",
    "    if method == \"monotone_cubic\":\n",
    "        interpolation_function = scipy.interpolate.PchipInterpolator(\n",
    "            x_values, y_values, extrapolate=True\n",
    "        )\n",
    "    else:\n",
    "        if fill_value is None:\n",
    "            fill_value = ([y_values[0]], [y_values[-1]])\n",
    "        interpolation_function = scipy.interpolate.interp1d(\n",
    "            x_values,\n",
    "            y_values,\n",
    "            kind=method,\n",
    "            bounds_error=False,\n",
    "            fill_value=fill_value,\n",
    "        )\n",
    "    if isinstance(x_new, int):\n",
    "        x_new = np.linspace(x_values[0], x_values[-1], x_new)\n",
    "    interpolated = interpolation_function(x_new)\n",
    "\n",
    "    if method == \"monotone_cubic\" and fill_value != \"extrapolate\":\n",
    "        # Find the index of the new x value that is closest to the first original x value\n",
    "        first_index = np.argmin(np.abs(x_new - x_values[0]))\n",
    "        # Find the index of the new x value that is closest to the last original x value\n",
    "        last_index = np.argmin(np.abs(x_new - x_values[-1]))\n",
    "        \n",
    "        if fill_value is None:\n",
    "            # Swap out the cubic extrapolation of out-of-bounds segments generated by\n",
    "            # scipy.interpolate.PchipInterpolator for constant extrapolation akin to the behavior of\n",
    "            # scipy.interpolate.interp1d with fill_value=([y_values[0]], [y_values[-1]].\n",
    "            fill_value = ([interpolated[first_index]], [interpolated[last_index]])\n",
    "        elif isinstance(fill_value, float) or isinstance(fill_value, int):\n",
    "            # if only a single integer or float is provided as a fill value, format as a tuple\n",
    "            fill_value = ([fill_value], [fill_value])\n",
    "\n",
    "        interpolated[: first_index] = fill_value[0]\n",
    "        interpolated[last_index + 1:] = fill_value[1]\n",
    "            \n",
    "    return interpolated"
   ]
  },
  {
   "cell_type": "code",
   "execution_count": 122,
   "id": "16b2fc2c",
   "metadata": {},
   "outputs": [],
   "source": [
    "x_values = np.arange(20)/3"
   ]
  },
  {
   "cell_type": "code",
   "execution_count": 123,
   "id": "ae0bcd8c",
   "metadata": {},
   "outputs": [],
   "source": [
    "y_values = np.sin(x_values)"
   ]
  },
  {
   "cell_type": "code",
   "execution_count": 124,
   "id": "36108f8d",
   "metadata": {},
   "outputs": [],
   "source": [
    "import matplotlib.pyplot as plt\n"
   ]
  },
  {
   "cell_type": "code",
   "execution_count": 125,
   "id": "d9c92784",
   "metadata": {},
   "outputs": [],
   "source": [
    "x_new = np.arange(30)/4"
   ]
  },
  {
   "cell_type": "code",
   "execution_count": 126,
   "id": "eb4085af",
   "metadata": {},
   "outputs": [
    {
     "data": {
      "text/plain": [
       "array([0.        , 0.33333333, 0.66666667, 1.        , 1.33333333,\n",
       "       1.66666667, 2.        , 2.33333333, 2.66666667, 3.        ,\n",
       "       3.33333333, 3.66666667, 4.        , 4.33333333, 4.66666667,\n",
       "       5.        , 5.33333333, 5.66666667, 6.        , 6.33333333])"
      ]
     },
     "execution_count": 126,
     "metadata": {},
     "output_type": "execute_result"
    }
   ],
   "source": [
    "x_values"
   ]
  },
  {
   "cell_type": "code",
   "execution_count": 127,
   "id": "481c8ec2",
   "metadata": {},
   "outputs": [
    {
     "data": {
      "text/plain": [
       "array([0.  , 0.25, 0.5 , 0.75, 1.  , 1.25, 1.5 , 1.75, 2.  , 2.25, 2.5 ,\n",
       "       2.75, 3.  , 3.25, 3.5 , 3.75, 4.  , 4.25, 4.5 , 4.75, 5.  , 5.25,\n",
       "       5.5 , 5.75, 6.  , 6.25, 6.5 , 6.75, 7.  , 7.25])"
      ]
     },
     "execution_count": 127,
     "metadata": {},
     "output_type": "execute_result"
    }
   ],
   "source": [
    "x_new"
   ]
  },
  {
   "cell_type": "code",
   "execution_count": 128,
   "id": "212e9ecf",
   "metadata": {},
   "outputs": [
    {
     "data": {
      "text/plain": [
       "0.75"
      ]
     },
     "execution_count": 128,
     "metadata": {},
     "output_type": "execute_result"
    }
   ],
   "source": [
    "x_new[3]"
   ]
  },
  {
   "cell_type": "code",
   "execution_count": 129,
   "id": "131808d7",
   "metadata": {},
   "outputs": [
    {
     "data": {
      "text/plain": [
       "array([0.75, 1.  , 1.25, 1.5 , 1.75, 2.  , 2.25, 2.5 , 2.75, 3.  , 3.25,\n",
       "       3.5 , 3.75, 4.  , 4.25, 4.5 , 4.75, 5.  , 5.25, 5.5 , 5.75, 6.  ,\n",
       "       6.25, 6.5 , 6.75, 7.  , 7.25])"
      ]
     },
     "execution_count": 129,
     "metadata": {},
     "output_type": "execute_result"
    }
   ],
   "source": [
    "x_new[3:]"
   ]
  },
  {
   "cell_type": "code",
   "execution_count": 130,
   "id": "ddda4114",
   "metadata": {},
   "outputs": [
    {
     "data": {
      "text/plain": [
       "array([0.  , 0.25, 0.5 ])"
      ]
     },
     "execution_count": 130,
     "metadata": {},
     "output_type": "execute_result"
    }
   ],
   "source": [
    "x_new[:3]"
   ]
  },
  {
   "cell_type": "code",
   "execution_count": 131,
   "id": "59337981",
   "metadata": {},
   "outputs": [
    {
     "data": {
      "text/plain": [
       "(-1.0, 1.0)"
      ]
     },
     "execution_count": 131,
     "metadata": {},
     "output_type": "execute_result"
    },
    {
     "data": {
      "image/png": "[encoded data removed]",
      "text/plain": [
       "<Figure size 432x288 with 1 Axes>"
      ]
     },
     "metadata": {
      "needs_background": "light"
     },
     "output_type": "display_data"
    }
   ],
   "source": [
    "plt.plot(x_values, y_values)\n",
    "y_new = signal_interpolate(x_values=x_values, y_values=y_values, x_new=x_new, method=\"monotone_cubic\", fill_value=4)\n",
    "plt.plot(x_new, y_new, alpha=0.5)\n",
    "y_new = signal_interpolate(x_values=x_values, y_values=y_values, x_new=x_new, method=\"linear\", fill_value=4)\n",
    "plt.plot(x_new, y_new, alpha=0.5)\n",
    "plt.xlim([5,7])\n",
    "plt.ylim([-1,1])"
   ]
  },
  {
   "cell_type": "code",
   "execution_count": 132,
   "id": "bd039c49",
   "metadata": {},
   "outputs": [
    {
     "data": {
      "text/plain": [
       "[<matplotlib.lines.Line2D at 0x13ed0cc26d0>]"
      ]
     },
     "execution_count": 132,
     "metadata": {},
     "output_type": "execute_result"
    },
    {
     "data": {
      "image/png": "[encoded data removed]",
      "text/plain": [
       "<Figure size 432x288 with 1 Axes>"
      ]
     },
     "metadata": {
      "needs_background": "light"
     },
     "output_type": "display_data"
    }
   ],
   "source": [
    "plt.plot(x_values, y_values)\n",
    "y_new = signal_interpolate(x_values=x_values, y_values=y_values, x_new=x_new, method=\"monotone_cubic\")\n",
    "plt.plot(x_new, y_new, alpha=0.5)\n",
    "y_new = signal_interpolate(x_values=x_values, y_values=y_values, x_new=x_new, method=\"linear\")\n",
    "plt.plot(x_new, y_new, alpha=0.5)\n"
   ]
  },
  {
   "cell_type": "code",
   "execution_count": 77,
   "id": "9bee6211",
   "metadata": {},
   "outputs": [
    {
     "data": {
      "text/plain": [
       "array([200, 400, 600, 800])"
      ]
     },
     "execution_count": 77,
     "metadata": {},
     "output_type": "execute_result"
    }
   ],
   "source": [
    "sampling_rate=200\n",
    "peaks = np.arange(stop=1000, step=sampling_rate)\n",
    "interpolation_rate=10\n",
    "peaks[1:] # Skip first peak since it has no corresponding element in heart_period"
   ]
  },
  {
   "cell_type": "code",
   "execution_count": 78,
   "id": "dc5cb4d8",
   "metadata": {},
   "outputs": [
    {
     "data": {
      "text/plain": [
       "array([  0, 200, 400, 600, 800])"
      ]
     },
     "execution_count": 78,
     "metadata": {},
     "output_type": "execute_result"
    }
   ],
   "source": [
    "peaks"
   ]
  },
  {
   "cell_type": "code",
   "execution_count": 79,
   "id": "521d06b0",
   "metadata": {},
   "outputs": [
    {
     "data": {
      "text/plain": [
       "array([  1. ,   1.1,   1.2, ..., 799.7, 799.8, 799.9])"
      ]
     },
     "execution_count": 79,
     "metadata": {},
     "output_type": "execute_result"
    }
   ],
   "source": [
    "desired_length = int(np.rint(peaks[-1]))\n",
    "x_new = np.arange(1, desired_length, 1 / interpolation_rate)\n",
    "x_new"
   ]
  },
  {
   "cell_type": "code",
   "execution_count": 80,
   "id": "4bda6124",
   "metadata": {},
   "outputs": [
    {
     "data": {
      "text/plain": [
       "array([200. , 200.1, 200.2, ..., 799.8, 799.9, 800. ])"
      ]
     },
     "execution_count": 80,
     "metadata": {},
     "output_type": "execute_result"
    }
   ],
   "source": [
    "x_new = np.arange(start=peaks[1], stop=peaks[-1] + 1 / interpolation_rate, step=1 / interpolation_rate)\n",
    "x_new"
   ]
  },
  {
   "cell_type": "code",
   "execution_count": 81,
   "id": "2e70a00b",
   "metadata": {},
   "outputs": [
    {
     "data": {
      "text/plain": [
       "array([200. , 200.1, 200.2, ..., 799.8, 799.9, 800. ])"
      ]
     },
     "execution_count": 81,
     "metadata": {},
     "output_type": "execute_result"
    }
   ],
   "source": [
    "x_new"
   ]
  },
  {
   "cell_type": "code",
   "execution_count": 43,
   "id": "7f543cbe",
   "metadata": {},
   "outputs": [],
   "source": [
    "rri = np.diff(peaks) / sampling_rate * 1000\n"
   ]
  },
  {
   "cell_type": "code",
   "execution_count": 44,
   "id": "de24e54c",
   "metadata": {},
   "outputs": [],
   "source": [
    "x_new=np.arange(desired_length)"
   ]
  },
  {
   "cell_type": "code",
   "execution_count": 45,
   "id": "a53f262d",
   "metadata": {},
   "outputs": [
    {
     "data": {
      "text/plain": [
       "array([   0,    1,    2, ..., 1797, 1798, 1799])"
      ]
     },
     "execution_count": 45,
     "metadata": {},
     "output_type": "execute_result"
    }
   ],
   "source": [
    "x_new"
   ]
  },
  {
   "cell_type": "code",
   "execution_count": 46,
   "id": "7de3ccad",
   "metadata": {},
   "outputs": [
    {
     "data": {
      "text/plain": [
       "8"
      ]
     },
     "execution_count": 46,
     "metadata": {},
     "output_type": "execute_result"
    }
   ],
   "source": [
    "len(rri)"
   ]
  },
  {
   "cell_type": "code",
   "execution_count": 47,
   "id": "74872f88",
   "metadata": {},
   "outputs": [],
   "source": [
    "interpolation_rate = 4"
   ]
  },
  {
   "cell_type": "code",
   "execution_count": 48,
   "id": "cba93ec5",
   "metadata": {},
   "outputs": [],
   "source": [
    "if interpolate is False:\n",
    "    sampling_rate = None\n",
    "\n",
    "else:\n",
    "\n",
    "    # Sanitize minimum sampling rate for interpolation to 10 Hz\n",
    "    sampling_rate = max(sampling_rate, 10)\n",
    "\n",
    "    # Compute length of interpolated heart period signal at requested sampling rate.\n",
    "    desired_length = int(np.rint(peaks[-1]))\n",
    "\n",
    "    rri = signal_interpolate(\n",
    "        peaks[1:],  # Skip first peak since it has no corresponding element in heart_period\n",
    "        rri,\n",
    "        x_new=np.arange(desired_length),\n",
    "    )"
   ]
  },
  {
   "cell_type": "code",
   "execution_count": 49,
   "id": "78ef2002",
   "metadata": {},
   "outputs": [
    {
     "data": {
      "text/plain": [
       "1800"
      ]
     },
     "execution_count": 49,
     "metadata": {},
     "output_type": "execute_result"
    }
   ],
   "source": []
  },
  {
   "cell_type": "code",
   "execution_count": 50,
   "id": "aa82b17f",
   "metadata": {},
   "outputs": [
    {
     "data": {
      "text/plain": [
       "array([ 200.  ,  200.25,  200.5 , ..., 1799.5 , 1799.75, 1800.  ])"
      ]
     },
     "execution_count": 50,
     "metadata": {},
     "output_type": "execute_result"
    }
   ],
   "source": []
  },
  {
   "cell_type": "code",
   "execution_count": 51,
   "id": "75d3aaa1",
   "metadata": {},
   "outputs": [
    {
     "data": {
      "text/plain": [
       "array([1.00000e+00, 1.25000e+00, 1.50000e+00, ..., 1.79925e+03,\n",
       "       1.79950e+03, 1.79975e+03])"
      ]
     },
     "execution_count": 51,
     "metadata": {},
     "output_type": "execute_result"
    }
   ],
   "source": [
    "np.arange(1, desired_length, 1/interpolation_rate)"
   ]
  },
  {
   "cell_type": "code",
   "execution_count": 29,
   "id": "6216eb44",
   "metadata": {},
   "outputs": [],
   "source": [
    "if interpolate is False:\n",
    "    sampling_rate = None\n",
    "\n",
    "else:\n",
    "\n",
    "    # Sanitize minimum sampling rate for interpolation to 10 Hz\n",
    "    sampling_rate = max(sampling_rate, 10)\n",
    "\n",
    "    # Compute length of interpolated heart period signal at requested sampling rate.\n",
    "    desired_length = int(np.rint(peaks[-1]))\n",
    "\n",
    "    rri = signal_interpolate(\n",
    "        peaks[1:],  # Skip first peak since it has no corresponding element in heart_period\n",
    "        rri,\n",
    "        x_new=np.arange(desired_length),\n",
    "    )"
   ]
  },
  {
   "cell_type": "code",
   "execution_count": 85,
   "id": "d0abc097",
   "metadata": {},
   "outputs": [],
   "source": [
    "new_peak_time = [0.234, 0.584, 0.934]\n",
    "fixed_peak_time = [0.23, 0.584, 0.7, 0.934]"
   ]
  },
  {
   "cell_type": "code",
   "execution_count": 87,
   "id": "70194347",
   "metadata": {},
   "outputs": [
    {
     "data": {
      "text/plain": [
       "array([0.2, 0.6, 0.7, 0.9])"
      ]
     },
     "execution_count": 87,
     "metadata": {},
     "output_type": "execute_result"
    }
   ],
   "source": [
    "np.round(fixed_peak_time, 1)"
   ]
  },
  {
   "cell_type": "code",
   "execution_count": 84,
   "id": "400d2a6b",
   "metadata": {},
   "outputs": [
    {
     "data": {
      "text/plain": [
       "0.01"
      ]
     },
     "execution_count": 84,
     "metadata": {},
     "output_type": "execute_result"
    }
   ],
   "source": [
    "1/100"
   ]
  },
  {
   "cell_type": "code",
   "execution_count": 92,
   "id": "888408ca",
   "metadata": {},
   "outputs": [],
   "source": [
    "dec = 1\n",
    "fixed_peak_time = samp_to_timestamp(fixed_new_peaks, sig_time=sig_time)\n",
    "added_peak_time = np.array([peak for peak in fixed_peak_time if np.round(peak, 1) not in np.round(new_peak_time, dec)])\n",
    "kept_peak_time = np.array([peak for peak in fixed_peak_time if np.round(peak, 1) in np.round(new_peak_time, dec)])\n",
    "height_fixed_added_peak_time = fixpeaks_by_height(added_peak_time,\n",
    "                                 sig_info={\"time\": corr_times, \"sig\": corrs, \"sampling_rate\": sampling_rate})\n",
    "final_peak_time = np.sort(np.concatenate(kept_peak_time, height_fixed_added_peak_time))"
   ]
  },
  {
   "cell_type": "code",
   "execution_count": 93,
   "id": "018dd261",
   "metadata": {},
   "outputs": [
    {
     "data": {
      "text/plain": [
       "[0.7]"
      ]
     },
     "execution_count": 93,
     "metadata": {},
     "output_type": "execute_result"
    }
   ],
   "source": [
    "added_peak_time"
   ]
  },
  {
   "cell_type": "code",
   "execution_count": 94,
   "id": "a14b5b08",
   "metadata": {},
   "outputs": [
    {
     "data": {
      "text/plain": [
       "[0.23, 0.584, 0.934]"
      ]
     },
     "execution_count": 94,
     "metadata": {},
     "output_type": "execute_result"
    }
   ],
   "source": [
    "kept_peak_time"
   ]
  },
  {
   "cell_type": "code",
   "execution_count": 95,
   "id": "63773a73",
   "metadata": {},
   "outputs": [
    {
     "ename": "NameError",
     "evalue": "name 'fixpeaks_by_height' is not defined",
     "output_type": "error",
     "traceback": [
      "\u001b[1;31m---------------------------------------------------------------------------\u001b[0m",
      "\u001b[1;31mNameError\u001b[0m                                 Traceback (most recent call last)",
      "Input \u001b[1;32mIn [95]\u001b[0m, in \u001b[0;36m<cell line: 1>\u001b[1;34m()\u001b[0m\n\u001b[1;32m----> 1\u001b[0m \u001b[43mfixpeaks_by_height\u001b[49m(samp_to_timestamp(fixed_new_peaks, sig_time\u001b[38;5;241m=\u001b[39msig_time),\n\u001b[0;32m      2\u001b[0m                                  sig_info\u001b[38;5;241m=\u001b[39m{\u001b[38;5;124m\"\u001b[39m\u001b[38;5;124mtime\u001b[39m\u001b[38;5;124m\"\u001b[39m: corr_times, \u001b[38;5;124m\"\u001b[39m\u001b[38;5;124msig\u001b[39m\u001b[38;5;124m\"\u001b[39m: corrs, \u001b[38;5;124m\"\u001b[39m\u001b[38;5;124msampling_rate\u001b[39m\u001b[38;5;124m\"\u001b[39m: sampling_rate})\n",
      "\u001b[1;31mNameError\u001b[0m: name 'fixpeaks_by_height' is not defined"
     ]
    }
   ],
   "source": []
  },
  {
   "cell_type": "code",
   "execution_count": null,
   "id": "9d835af6",
   "metadata": {},
   "outputs": [],
   "source": []
  }
 ],
 "metadata": {
  "kernelspec": {
   "display_name": "Python 3 (ipykernel)",
   "language": "python",
   "name": "python3"
  },
  "language_info": {
   "codemirror_mode": {
    "name": "ipython",
    "version": 3
   },
   "file_extension": ".py",
   "mimetype": "text/x-python",
   "name": "python",
   "nbconvert_exporter": "python",
   "pygments_lexer": "ipython3",
   "version": "3.9.12"
  }
 },
 "nbformat": 4,
 "nbformat_minor": 5
}
