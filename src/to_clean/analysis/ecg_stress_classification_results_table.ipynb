{
 "cells": [
  {
   "cell_type": "code",
   "execution_count": 1,
   "id": "dfc9cc0c",
   "metadata": {},
   "outputs": [],
   "source": [
    "import os\n",
    "import sys\n",
    "import pathlib"
   ]
  },
  {
   "cell_type": "code",
   "execution_count": 2,
   "id": "167c5d93",
   "metadata": {},
   "outputs": [],
   "source": [
    "# in order to load the submodule located in parent directory as a package\n",
    "orig_dir = os.getcwd()\n",
    "package_dir = os.path.join(os.path.dirname(os.getcwd()))\n",
    "sys.path.append(package_dir)"
   ]
  },
  {
   "cell_type": "code",
   "execution_count": 3,
   "id": "3c35409d",
   "metadata": {},
   "outputs": [
    {
     "name": "stderr",
     "output_type": "stream",
     "text": [
      "C:\\Users\\dbenesch\\.conda\\envs\\stress-requirements\\lib\\site-packages\\paramiko\\transport.py:219: CryptographyDeprecationWarning: Blowfish has been deprecated\n",
      "  \"class\": algorithms.Blowfish,\n"
     ]
    }
   ],
   "source": [
    "import numpy as np\n",
    "import pandas as pd\n",
    "from sklearn.model_selection import cross_validate\n",
    "from sklearn.metrics import accuracy_score\n",
    "from stresspred import (\n",
    "    AudaceDataLoader,\n",
    "    P5_StressDataLoader,\n",
    "    get_cv_iterator,\n",
    "    make_prediction_pipeline,\n",
    ")"
   ]
  },
  {
   "cell_type": "code",
   "execution_count": 6,
   "id": "b2d2a9ef",
   "metadata": {},
   "outputs": [],
   "source": [
    "from sklearn.linear_model import LogisticRegression\n",
    "from xgboost import XGBClassifier\n",
    "\n",
    "out = AudaceDataLoader().get_split_pred_df(\n",
    "    selected_tasks=[\"MENTAL\", \"CPT\"],\n",
    "    selected_signals=[\"ECG\"],\n",
    "    load_from_file=True,\n",
    "    save_file=False,\n",
    ")\n",
    "seed = 0\n",
    "nk_feats = [col for col in out[\"X\"].columns if \"HRV_\" in col]\n",
    "\n",
    "model_labels = [\"Logistic Regression\", \"XGBoost\"]\n",
    "list_models = [LogisticRegression(random_state=seed), XGBClassifier(random_state=seed)]\n",
    "selected_feature_labels = [\"Only MedianNN\", \"MeanNN + RMSSD\", \"All Neurokit2 features\"]\n",
    "\n",
    "list_selected_features = [\n",
    "    [\"HRV_MedianNN\"],\n",
    "    [\"HRV_MeanNN\", \"HRV_RMSSD\"],\n",
    "    nk_feats,\n",
    "]\n",
    "\n",
    "evaluation_labels = [\n",
    "    \"Cross-val on AUDACE\",\n",
    "    \"Cross-val on P5_Stress\",\n",
    "    \"Train on AUDACE + test on P5_Stress\",\n",
    "]\n",
    "all_results = []\n",
    "for eval_ind in range(len(evaluation_labels)):\n",
    "    for est_ind in range(len(model_labels)):\n",
    "        for feat_ind in range(len(selected_feature_labels)):\n",
    "\n",
    "            selected_features = list_selected_features[feat_ind]\n",
    "            est = list_models[est_ind]\n",
    "            pipe_clf = make_prediction_pipeline(est=est)\n",
    "            if eval_ind in [0, 2]:\n",
    "                out = AudaceDataLoader().get_split_pred_df(\n",
    "                    selected_tasks=[\"MENTAL\", \"CPT\"],\n",
    "                    selected_signals=[\"ECG\"],\n",
    "                    load_from_file=True,\n",
    "                    save_file=False,\n",
    "                )\n",
    "                X_train = out[\"X\"]\n",
    "                y_train = out[\"y\"]\n",
    "                sub_train = out[\"sub\"]\n",
    "                task_train = out[\"task\"]\n",
    "                signal_train = out[\"signal\"]\n",
    "                if eval_ind == 2:\n",
    "                    out = P5_StressDataLoader().get_split_pred_df(\n",
    "                        selected_tasks=[\"MENTAL\", \"MENTALNOISE\", \"CPT\"],\n",
    "                        selected_signals=[\"ECG\"],\n",
    "                        load_from_file=True,\n",
    "                        save_file=False,\n",
    "                    )\n",
    "                    X_test = out[\"X\"]\n",
    "                    y_test = out[\"y\"]\n",
    "                    sub_test = out[\"sub\"]\n",
    "                    task_test = out[\"task\"]\n",
    "            else:\n",
    "                out = P5_StressDataLoader().get_split_pred_df(\n",
    "                    selected_tasks=[\"MENTAL\", \"MENTALNOISE\", \"CPT\"],\n",
    "                    selected_signals=[\"ECG\"],\n",
    "                    load_from_file=True,\n",
    "                    save_file=False,\n",
    "                )\n",
    "                X_train = out[\"X\"]\n",
    "                y_train = out[\"y\"]\n",
    "                sub_train = out[\"sub\"]\n",
    "                task_train = out[\"task\"]\n",
    "                signal_train = out[\"signal\"]\n",
    "\n",
    "            if eval_ind in [0, 1]:\n",
    "                outer_cv, _ = get_cv_iterator(\n",
    "                    sub_train,\n",
    "                    n_outer_splits=5,\n",
    "                    n_inner_splits=4,\n",
    "                )\n",
    "                cv_results = cross_validate(\n",
    "                    pipe_clf, X_train.loc[:, selected_features], y_train, cv=outer_cv\n",
    "                )\n",
    "                accuracy = np.mean(cv_results[\"test_score\"])\n",
    "            else:\n",
    "                pipe_clf.fit(X_train.loc[:, selected_features], y_train)\n",
    "                y_pred = pipe_clf.predict(X_test.loc[:, selected_features])\n",
    "                accuracy = accuracy_score(y_test, y_pred)\n",
    "            accuracy_perc_str = str(np.round(accuracy * 100, 1)) + \" %\"\n",
    "            res_dict = {\n",
    "                \"Signal\": \"ECG (tr) -> ECG (val)\",\n",
    "                \"Model\": model_labels[est_ind],\n",
    "                \"Feature set\": selected_feature_labels[feat_ind],\n",
    "                \"Evaluation strategy\": evaluation_labels[eval_ind],\n",
    "                \"Accuracy\": accuracy_perc_str,\n",
    "            }\n",
    "            all_results.append(res_dict)"
   ]
  },
  {
   "cell_type": "code",
   "execution_count": 7,
   "id": "44b3380b",
   "metadata": {},
   "outputs": [],
   "source": [
    "result_df = pd.DataFrame(all_results)"
   ]
  },
  {
   "cell_type": "code",
   "execution_count": 8,
   "id": "55449cfa",
   "metadata": {},
   "outputs": [
    {
     "name": "stdout",
     "output_type": "stream",
     "text": [
      "| Signal                | Model               | Feature set            | Evaluation strategy                 | Accuracy   |\n",
      "|:----------------------|:--------------------|:-----------------------|:------------------------------------|:-----------|\n",
      "| ECG (tr) -> ECG (val) | Logistic Regression | Only MedianNN          | Cross-val on AUDACE                 | 76.0 %     |\n",
      "| ECG (tr) -> ECG (val) | Logistic Regression | MeanNN + RMSSD         | Cross-val on AUDACE                 | 78.8 %     |\n",
      "| ECG (tr) -> ECG (val) | Logistic Regression | All Neurokit2 features | Cross-val on AUDACE                 | 78.2 %     |\n",
      "| ECG (tr) -> ECG (val) | XGBoost             | Only MedianNN          | Cross-val on AUDACE                 | 67.5 %     |\n",
      "| ECG (tr) -> ECG (val) | XGBoost             | MeanNN + RMSSD         | Cross-val on AUDACE                 | 73.7 %     |\n",
      "| ECG (tr) -> ECG (val) | XGBoost             | All Neurokit2 features | Cross-val on AUDACE                 | 75.2 %     |\n",
      "| ECG (tr) -> ECG (val) | Logistic Regression | Only MedianNN          | Cross-val on P5_Stress              | 91.1 %     |\n",
      "| ECG (tr) -> ECG (val) | Logistic Regression | MeanNN + RMSSD         | Cross-val on P5_Stress              | 88.8 %     |\n",
      "| ECG (tr) -> ECG (val) | Logistic Regression | All Neurokit2 features | Cross-val on P5_Stress              | 80.1 %     |\n",
      "| ECG (tr) -> ECG (val) | XGBoost             | Only MedianNN          | Cross-val on P5_Stress              | 90.8 %     |\n",
      "| ECG (tr) -> ECG (val) | XGBoost             | MeanNN + RMSSD         | Cross-val on P5_Stress              | 89.1 %     |\n",
      "| ECG (tr) -> ECG (val) | XGBoost             | All Neurokit2 features | Cross-val on P5_Stress              | 84.8 %     |\n",
      "| ECG (tr) -> ECG (val) | Logistic Regression | Only MedianNN          | Train on AUDACE + test on P5_Stress | 91.4 %     |\n",
      "| ECG (tr) -> ECG (val) | Logistic Regression | MeanNN + RMSSD         | Train on AUDACE + test on P5_Stress | 82.9 %     |\n",
      "| ECG (tr) -> ECG (val) | Logistic Regression | All Neurokit2 features | Train on AUDACE + test on P5_Stress | 62.9 %     |\n",
      "| ECG (tr) -> ECG (val) | XGBoost             | Only MedianNN          | Train on AUDACE + test on P5_Stress | 80.0 %     |\n",
      "| ECG (tr) -> ECG (val) | XGBoost             | MeanNN + RMSSD         | Train on AUDACE + test on P5_Stress | 74.3 %     |\n",
      "| ECG (tr) -> ECG (val) | XGBoost             | All Neurokit2 features | Train on AUDACE + test on P5_Stress | 68.6 %     |\n"
     ]
    }
   ],
   "source": [
    "print(result_df.to_markdown(index=False))"
   ]
  },
  {
   "cell_type": "code",
   "execution_count": null,
   "id": "0883183b",
   "metadata": {},
   "outputs": [],
   "source": []
  }
 ],
 "metadata": {
  "kernelspec": {
   "display_name": "Python 3 (ipykernel)",
   "language": "python",
   "name": "python3"
  },
  "language_info": {
   "codemirror_mode": {
    "name": "ipython",
    "version": 3
   },
   "file_extension": ".py",
   "mimetype": "text/x-python",
   "name": "python",
   "nbconvert_exporter": "python",
   "pygments_lexer": "ipython3",
   "version": "3.9.12"
  }
 },
 "nbformat": 4,
 "nbformat_minor": 5
}
