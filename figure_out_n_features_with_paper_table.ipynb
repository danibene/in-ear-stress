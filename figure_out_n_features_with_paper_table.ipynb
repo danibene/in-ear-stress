{
 "cells": [
  {
   "cell_type": "code",
   "execution_count": 22,
   "metadata": {},
   "outputs": [],
   "source": [
    "import json\n",
    "import pandas as pd"
   ]
  },
  {
   "cell_type": "code",
   "execution_count": 23,
   "metadata": {},
   "outputs": [],
   "source": [
    "feature_list_path = \"expected_features.json\"\n",
    "with open(feature_list_path, \"r\") as json_file:\n",
    "        expected_features = json.load(json_file)"
   ]
  },
  {
   "cell_type": "code",
   "execution_count": 39,
   "metadata": {},
   "outputs": [],
   "source": [
    "feats_in_model = set([f.split(\"HRV_\")[1] for f in expected_features])"
   ]
  },
  {
   "cell_type": "code",
   "execution_count": 40,
   "metadata": {},
   "outputs": [],
   "source": [
    "feat_in_table = pd.read_csv(\"local_data/neurokit2_hrv_feat_info.csv\")\n",
    "feats_in_paper = set(feat_in_table[\"Feature\"])"
   ]
  },
  {
   "cell_type": "code",
   "execution_count": 41,
   "metadata": {},
   "outputs": [
    {
     "data": {
      "text/plain": [
       "set()"
      ]
     },
     "execution_count": 41,
     "metadata": {},
     "output_type": "execute_result"
    }
   ],
   "source": [
    "feats_in_model.difference(feats_in_paper)"
   ]
  },
  {
   "cell_type": "code",
   "execution_count": 42,
   "metadata": {},
   "outputs": [
    {
     "data": {
      "text/plain": [
       "{'SDANN2', 'SDANN5', 'SDNNI2', 'SDNNI5', 'ULF'}"
      ]
     },
     "execution_count": 42,
     "metadata": {},
     "output_type": "execute_result"
    }
   ],
   "source": [
    "feats_in_paper.difference(feats_in_model)"
   ]
  },
  {
   "cell_type": "code",
   "execution_count": 43,
   "metadata": {},
   "outputs": [
    {
     "data": {
      "text/plain": [
       "67"
      ]
     },
     "execution_count": 43,
     "metadata": {},
     "output_type": "execute_result"
    }
   ],
   "source": [
    "len(shared_feats)"
   ]
  },
  {
   "cell_type": "code",
   "execution_count": 44,
   "metadata": {},
   "outputs": [
    {
     "name": "stdout",
     "output_type": "stream",
     "text": [
      "Time-domain\n",
      "20\n",
      "Frequency-domain\n",
      "8\n",
      "Non-linear\n",
      "47\n"
     ]
    }
   ],
   "source": [
    "for category in feat_in_table[\"Category\"].unique():\n",
    "    feat_in_table_this_cat = feat_in_table[feat_in_table[\"Category\"] == category]\n",
    "    this_cat_in_model = [f for f in feat_in_table_this_cat[\"Feature\"] if f in feats_in_model]\n",
    "    print(category)\n",
    "    print(len(this_cat_in_model))"
   ]
  },
  {
   "cell_type": "code",
   "execution_count": null,
   "metadata": {},
   "outputs": [],
   "source": []
  }
 ],
 "metadata": {
  "kernelspec": {
   "display_name": ".venv",
   "language": "python",
   "name": "python3"
  },
  "language_info": {
   "codemirror_mode": {
    "name": "ipython",
    "version": 3
   },
   "file_extension": ".py",
   "mimetype": "text/x-python",
   "name": "python",
   "nbconvert_exporter": "python",
   "pygments_lexer": "ipython3",
   "version": "3.10.11"
  },
  "orig_nbformat": 4
 },
 "nbformat": 4,
 "nbformat_minor": 2
}
